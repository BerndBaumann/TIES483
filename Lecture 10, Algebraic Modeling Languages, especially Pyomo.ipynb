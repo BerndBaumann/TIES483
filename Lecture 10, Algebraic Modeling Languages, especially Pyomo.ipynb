{
 "cells": [
  {
   "cell_type": "markdown",
   "metadata": {
    "slideshow": {
     "slide_type": "slide"
    }
   },
   "source": [
    "# Lecture 14, Algebraic Modeling Languages"
   ]
  },
  {
   "cell_type": "markdown",
   "metadata": {},
   "source": [
    "Algebraic Modeling Languages (AML) are high-level computer programming languages for describing and solving high complexity problems for large scale mathematical computation (i.e. large scale optimization type problems).  Their syntax mimics the mathematical notation of optimization problems, which allows one to express optimization problems in a familiar, concise and readable way. \n",
    "\n",
    "**AMLs do not directly solve the problem, but they call appropriate external solvers to find the solution.**\n",
    "\n",
    "Examples of AMLs are\n",
    "* A Mathematical Programming Language (AMPL),\n",
    "* General Algebraic Modeling System (GAMS),\n",
    "* Optimization Programming Language (OPL),\n",
    "* Advanced Interactive Multidimensional Modeling System (AIMMS), and\n",
    "* Pyomo."
   ]
  },
  {
   "cell_type": "markdown",
   "metadata": {},
   "source": [
    "In addition to the ease of modelling, one of the advantages of AMLs is that you can model the problem once and then solve it with multiple solvers."
   ]
  },
  {
   "cell_type": "markdown",
   "metadata": {
    "slideshow": {
     "slide_type": "slide"
    }
   },
   "source": [
    "## Pyomo"
   ]
  },
  {
   "cell_type": "markdown",
   "metadata": {},
   "source": [
    "On this course, we use Pyomo as an example of AMLs. Pyomo is a Python-based, open-source optimization modeling language with a diverse set of optimization capabilities.\n",
    "\n",
    "Pyomo may not be a completely typical AML, because Pyomo's modeling objects are embedded within a full-featured high-level programming language providing a rich set of supporting libraries, which distinguishes Pyomo from other AMLs.\n",
    "\n",
    "Pyomo supports a wide range of problem types, including:\n",
    "* Linear programming\n",
    "* Quadratic programming\n",
    "* Nonlinear programming\n",
    "* Mixed-integer linear programming\n",
    "* Mixed-integer quadratic programming\n",
    "* Mixed-integer nonlinear programming\n",
    "* Stochastic programming\n",
    "* Generalized disjunctive programming\n",
    "* Differential algebraic equations\n",
    "* Bilevel programming\n",
    "* Mathematical programs with equilibrium constraints"
   ]
  },
  {
   "cell_type": "markdown",
   "metadata": {
    "slideshow": {
     "slide_type": "slide"
    }
   },
   "source": [
    "# Installing Pyomo\n",
    "\n",
    "The easiest way to install Pyomo is to call\n",
    "```\n",
    "pip install pyomo\n",
    "```\n",
    "when pip has been installed on your machine."
   ]
  },
  {
   "cell_type": "markdown",
   "metadata": {
    "slideshow": {
     "slide_type": "slide"
    }
   },
   "source": [
    "## Example 1, linear optimization"
   ]
  },
  {
   "cell_type": "markdown",
   "metadata": {},
   "source": [
    "Let us start with a very simple linear problem\n",
    "$$\n",
    "\\begin{align}\n",
    "\\min &\\qquad   2x_1+3x_2\\\\\n",
    "\\text{s.t. }& \\qquad 3x_1+4x_2\\geq 1\\\\\n",
    "& \\qquad x_1,x_2\\geq 0.\n",
    "\\end{align}\n",
    "$$"
   ]
  },
  {
   "cell_type": "code",
   "execution_count": 75,
   "metadata": {
    "collapsed": false,
    "slideshow": {
     "slide_type": "-"
    }
   },
   "outputs": [],
   "source": [
    "from pyomo.environ import *\n",
    "\n",
    "\n",
    "model = ConcreteModel()\n",
    "\n",
    "model.x = Var([1,2], domain=NonNegativeReals) #Non-negative variables x[1] and x[2]\n",
    "\n",
    "model.OBJ = Objective(expr = 2*model.x[1] + 3*model.x[2]) #Objective function\n",
    "\n",
    "model.Constraint1 = Constraint(expr = 3*model.x[1] + 4*model.x[2] >= 1) #Constraint\n"
   ]
  },
  {
   "cell_type": "markdown",
   "metadata": {
    "slideshow": {
     "slide_type": "subslide"
    }
   },
   "source": [
    "Once we have defined the problem, we can solve it. Let us start by using glpk, which is an open source linear programming program.\n",
    "\n",
    "You need to have glpk installed on your system. For details, see https://www.gnu.org/software/glpk/#TOCdownloading. For many Linux distributions, you can install glpk from the repositories by typing\n",
    "```\n",
    "sudo yum install glpk\n",
    "```\n",
    "```\n",
    "sudo apt-get install glpk,\n",
    "```\n",
    "or whatever your distribution needs.\n"
   ]
  },
  {
   "cell_type": "code",
   "execution_count": 76,
   "metadata": {
    "collapsed": false
   },
   "outputs": [
    {
     "name": "stdout",
     "output_type": "stream",
     "text": [
      "GLPSOL: GLPK LP/MIP Solver, v4.52\n",
      "Parameter(s) specified in the command line:\n",
      " --write /tmp/tmpogS1Ue.glpk.raw --wglp /tmp/tmpA5Hc_F.glpk.glp --cpxlp /tmp/tmpkKjSRP.pyomo.lp\n",
      "Reading problem data from '/tmp/tmpkKjSRP.pyomo.lp'...\n",
      "2 rows, 3 columns, 3 non-zeros\n",
      "21 lines were read\n",
      "Writing problem data to `/tmp/tmpA5Hc_F.glpk.glp'...\n",
      "15 lines were written\n",
      "GLPK Simplex Optimizer, v4.52\n",
      "2 rows, 3 columns, 3 non-zeros\n",
      "Preprocessing...\n",
      "1 row, 2 columns, 2 non-zeros\n",
      "Scaling...\n",
      " A: min|aij| =  3.000e+00  max|aij| =  4.000e+00  ratio =  1.333e+00\n",
      "Problem data seem to be well scaled\n",
      "Constructing initial basis...\n",
      "Size of triangular part is 1\n",
      "      0: obj =   0.000000000e+00  infeas =  1.000e+00 (0)\n",
      "*     1: obj =   7.500000000e-01  infeas =  0.000e+00 (0)\n",
      "*     2: obj =   6.666666667e-01  infeas =  0.000e+00 (0)\n",
      "OPTIMAL LP SOLUTION FOUND\n",
      "Time used:   0.0 secs\n",
      "Memory used: 0.0 Mb (40408 bytes)\n",
      "Writing basic solution to `/tmp/tmpogS1Ue.glpk.raw'...\n",
      "7 lines were written\n",
      "Solution:\n",
      "=========\n",
      "x : Size=2, Index=x_index, Domain=NonNegativeReals\n",
      "    Key : Lower : Value          : Upper : Fixed : Stale\n",
      "      1 :     0 : 0.333333333333 :  None : False : False\n",
      "      2 :     0 :            0.0 :  None : False : False\n"
     ]
    }
   ],
   "source": [
    "from pyomo.opt import SolverFactory #Import interfaces to solvers\n",
    "opt = SolverFactory(\"glpk\") #Use glpk\n",
    "res = opt.solve(model, tee=True) #Solve the  problem and print the output\n",
    "print \"Solution:\"\n",
    "print \"=========\"\n",
    "model.x.display() #Print values of x"
   ]
  },
  {
   "cell_type": "markdown",
   "metadata": {
    "slideshow": {
     "slide_type": "subslide"
    }
   },
   "source": [
    "Now, if you have other linear solvers installed on your system, you can use them too. Let us use Cplex, which is a commercial solvers (academic license available)."
   ]
  },
  {
   "cell_type": "code",
   "execution_count": 77,
   "metadata": {
    "collapsed": false,
    "slideshow": {
     "slide_type": "-"
    }
   },
   "outputs": [
    {
     "name": "stdout",
     "output_type": "stream",
     "text": [
      "\n",
      "Welcome to IBM(R) ILOG(R) CPLEX(R) Interactive Optimizer 12.6.2.0\n",
      "  with Simplex, Mixed Integer & Barrier Optimizers\n",
      "5725-A06 5725-A29 5724-Y48 5724-Y49 5724-Y54 5724-Y55 5655-Y21\n",
      "Copyright IBM Corp. 1988, 2015.  All Rights Reserved.\n",
      "\n",
      "Type 'help' for a list of available commands.\n",
      "Type 'help' followed by a command name for more\n",
      "information on commands.\n",
      "\n",
      "CPLEX> Logfile 'cplex.log' closed.\n",
      "Logfile '/tmp/tmpnxw9d9.cplex.log' open.\n",
      "CPLEX> Problem '/tmp/tmpEdgLVy.pyomo.lp' read.\n",
      "Read time = 0.00 sec. (0.00 ticks)\n",
      "CPLEX> Problem name         : /tmp/tmpEdgLVy.pyomo.lp\n",
      "Objective sense      : Minimize\n",
      "Variables            :       3\n",
      "Objective nonzeros   :       2\n",
      "Linear constraints   :       2  [Greater: 1,  Equal: 1]\n",
      "  Nonzeros           :       3\n",
      "  RHS nonzeros       :       2\n",
      "\n",
      "Variables            : Min LB: 0.000000         Max UB: all infinite   \n",
      "Objective nonzeros   : Min   : 2.000000         Max   : 3.000000       \n",
      "Linear constraints   :\n",
      "  Nonzeros           : Min   : 1.000000         Max   : 4.000000       \n",
      "  RHS nonzeros       : Min   : 1.000000         Max   : 1.000000       \n",
      "CPLEX> Tried aggregator 1 time.\n",
      "LP Presolve eliminated 2 rows and 3 columns.\n",
      "All rows and columns eliminated.\n",
      "Presolve time = 0.00 sec. (0.00 ticks)\n",
      "\n",
      "Dual simplex - Optimal:  Objective =  6.6666666667e-01\n",
      "Solution time =    0.00 sec.  Iterations = 0 (0)\n",
      "Deterministic time = 0.00 ticks  (2.72 ticks/sec)\n",
      "\n",
      "CPLEX> Solution written to file '/tmp/tmpjWjvnD.cplex.sol'.\n",
      "CPLEX> Solution:\n",
      "x : Size=2, Index=x_index, Domain=NonNegativeReals\n",
      "    Key : Lower : Value          : Upper : Fixed : Stale\n",
      "      1 :     0 : 0.333333333333 :  None : False : False\n",
      "      2 :     0 :            0.0 :  None : False : False\n"
     ]
    }
   ],
   "source": [
    "opt = SolverFactory(\"cplex\")\n",
    "res = opt.solve(model, tee=True)\n",
    "print \"Solution:\"\n",
    "model.x.display()"
   ]
  },
  {
   "cell_type": "markdown",
   "metadata": {
    "slideshow": {
     "slide_type": "subslide"
    }
   },
   "source": [
    "We can use also gurobi, which is another commercial solver with academic license."
   ]
  },
  {
   "cell_type": "code",
   "execution_count": 78,
   "metadata": {
    "collapsed": false
   },
   "outputs": [
    {
     "name": "stdout",
     "output_type": "stream",
     "text": [
      "Optimize a model with 2 rows, 3 columns and 3 nonzeros\n",
      "Coefficient statistics:\n",
      "  Matrix range    [1e+00, 4e+00]\n",
      "  Objective range [2e+00, 3e+00]\n",
      "  Bounds range    [0e+00, 0e+00]\n",
      "  RHS range       [1e+00, 1e+00]\n",
      "Presolve removed 2 rows and 3 columns\n",
      "Presolve time: 0.00s\n",
      "Presolve: All rows and columns removed\n",
      "Iteration    Objective       Primal Inf.    Dual Inf.      Time\n",
      "       0    6.6666667e-01   0.000000e+00   0.000000e+00      0s\n",
      "\n",
      "Solved in 0 iterations and 0.00 seconds\n",
      "Optimal objective  6.666666667e-01\n",
      "Solution:\n",
      "x : Size=2, Index=x_index, Domain=NonNegativeReals\n",
      "    Key : Lower : Value          : Upper : Fixed : Stale\n",
      "      1 :     0 : 0.333333333333 :  None : False : False\n",
      "      2 :     0 :            0.0 :  None : False : False\n"
     ]
    }
   ],
   "source": [
    "opt = SolverFactory(\"gurobi\")\n",
    "res = opt.solve(model, tee=True)\n",
    "print \"Solution:\"\n",
    "model.x.display()"
   ]
  },
  {
   "cell_type": "markdown",
   "metadata": {
    "slideshow": {
     "slide_type": "slide"
    }
   },
   "source": [
    "## Example 2, nonlinear optimization"
   ]
  },
  {
   "cell_type": "markdown",
   "metadata": {},
   "source": [
    "Let use define optimization problem\n",
    "$$\n",
    "\\begin{align}\n",
    "\\max &\\qquad c_b\\\\\n",
    "\\text{s.t. }& \\qquad c_{af}s_v - s_vc_a-k_1c_a=0\\\\\n",
    "&\\qquad s_vc_b+k_1c_a-k_2c_b-2k_3c_a^2=0\\\\\n",
    "&\\qquad s_vc_c+k_2c_b=0\\\\\n",
    "&\\qquad s_vc_d+k_3c_a^2=0,\\\\\n",
    "&\\qquad s_v,c_a,c_b,c_c,c_d\\geq0\n",
    "\\end{align}\n",
    "$$\n",
    "where $k_1=5/6$, $k_2=5/3$, $k_3=1/6000$, and $c_{af}=10000$."
   ]
  },
  {
   "cell_type": "code",
   "execution_count": 79,
   "metadata": {
    "collapsed": false
   },
   "outputs": [],
   "source": [
    "from pyomo.environ import *\n",
    "# create the concrete model\n",
    "model = ConcreteModel()\n",
    "# set the data \n",
    "k1 = 5.0/6.0 \n",
    "k2 = 5.0/3.0 \n",
    "k3 = 1.0/6000.0 \n",
    "caf = 10000.0 \n",
    "# create the variables\n",
    "model.sv = Var(initialize = 1.0, within=PositiveReals)\n",
    "model.ca = Var(initialize = 5000.0, within=PositiveReals)\n",
    "model.cb = Var(initialize = 2000.0, within=PositiveReals)\n",
    "model.cc = Var(initialize = 2000.0, within=PositiveReals)\n",
    "model.cd = Var(initialize = 1000.0, within=PositiveReals)\n",
    "\n",
    "# create the objective\n",
    "model.obj = Objective(expr = model.cb, sense=maximize)\n",
    "# create the constraints\n",
    "model.ca_bal = Constraint(expr = (0 == model.sv * caf \\\n",
    "    - model.sv * model.ca - k1 * model.ca \\\n",
    "    - 2.0 * k3 * model.ca ** 2.0))\n",
    "model.cb_bal = Constraint(expr=(0 == -model.sv * model.cb \\\n",
    "    + k1 * model.ca - k2 * model.cb))\n",
    "model.cc_bal = Constraint(expr=(0 == -model.sv * model.cc \\\n",
    "    + k2 * model.cb))\n",
    "model.cd_bal = Constraint(expr=(0 == -model.sv * model.cd \\\n",
    "    + k3 * model.ca ** 2.0))"
   ]
  },
  {
   "cell_type": "markdown",
   "metadata": {
    "slideshow": {
     "slide_type": "subslide"
    }
   },
   "source": [
    "## Solving with Ipopt\n",
    "\n",
    "Install IPopt following http://www.coin-or.org/Ipopt/documentation/node10.html."
   ]
  },
  {
   "cell_type": "code",
   "execution_count": 80,
   "metadata": {
    "collapsed": false
   },
   "outputs": [
    {
     "name": "stdout",
     "output_type": "stream",
     "text": [
      "\n",
      "\n",
      "******************************************************************************\n",
      "This program contains Ipopt, a library for large-scale nonlinear optimization.\n",
      " Ipopt is released as open source code under the Eclipse Public License (EPL).\n",
      "         For more information visit http://projects.coin-or.org/Ipopt\n",
      "******************************************************************************\n",
      "\n",
      "This is Ipopt version 3.12, running with linear solver mumps.\n",
      "NOTE: Other linear solvers might be more efficient (see Ipopt documentation).\n",
      "\n",
      "Number of nonzeros in equality constraint Jacobian...:       11\n",
      "Number of nonzeros in inequality constraint Jacobian.:        0\n",
      "Number of nonzeros in Lagrangian Hessian.............:        5\n",
      "\n",
      "Total number of variables............................:        5\n",
      "                     variables with only lower bounds:        5\n",
      "                variables with lower and upper bounds:        0\n",
      "                     variables with only upper bounds:        0\n",
      "Total number of equality constraints.................:        4\n",
      "Total number of inequality constraints...............:        0\n",
      "        inequality constraints with only lower bounds:        0\n",
      "   inequality constraints with lower and upper bounds:        0\n",
      "        inequality constraints with only upper bounds:        0\n",
      "\n",
      "iter    objective    inf_pr   inf_du lg(mu)  ||d||  lg(rg) alpha_du alpha_pr  ls\n",
      "   0 -2.0000000e+03 7.50e+03 6.25e-01  -1.0 0.00e+00    -  0.00e+00 0.00e+00   0\n",
      "   1 -1.0801475e+03 5.54e+02 2.46e+00  -1.0 1.39e+03    -  5.54e-01 1.00e+00h  1\n",
      "   2 -1.0763574e+03 8.86e+01 1.87e+02  -1.0 3.66e+02    -  9.31e-01 1.00e+00h  1\n",
      "   3 -1.0727252e+03 1.07e+01 5.26e+00  -1.0 9.35e+01    -  9.71e-01 1.00e+00h  1\n",
      "   4 -1.0726714e+03 4.01e+00 1.22e-01  -1.0 6.03e+01    -  9.68e-01 1.00e+00h  1\n",
      "   5 -1.0724371e+03 3.44e-04 2.93e-05  -2.5 4.19e-01    -  1.00e+00 1.00e+00h  1\n",
      "   6 -1.0724372e+03 1.63e-08 3.93e-09  -3.8 3.85e-03    -  1.00e+00 1.00e+00h  1\n",
      "   7 -1.0724372e+03 5.68e-11 2.68e-11  -5.7 2.24e-04    -  1.00e+00 1.00e+00h  1\n",
      "   8 -1.0724372e+03 4.55e-13 2.51e-14  -8.6 2.78e-06    -  1.00e+00 1.00e+00h  1\n",
      "\n",
      "Number of Iterations....: 8\n",
      "\n",
      "                                   (scaled)                 (unscaled)\n",
      "Objective...............:  -1.0724372001086319e+03   -1.0724372001086319e+03\n",
      "Dual infeasibility......:   2.5080209371475748e-14    2.5080209371475748e-14\n",
      "Constraint violation....:   1.1368683772161604e-14    4.5474735088646412e-13\n",
      "Complementarity.........:   2.5059065225787342e-09    2.5059065225787342e-09\n",
      "Overall NLP error.......:   2.5059065225787342e-09    2.5059065225787342e-09\n",
      "\n",
      "\n",
      "Number of objective function evaluations             = 9\n",
      "Number of objective gradient evaluations             = 9\n",
      "Number of equality constraint evaluations            = 9\n",
      "Number of inequality constraint evaluations          = 0\n",
      "Number of equality constraint Jacobian evaluations   = 9\n",
      "Number of inequality constraint Jacobian evaluations = 0\n",
      "Number of Lagrangian Hessian evaluations             = 8\n",
      "Total CPU secs in IPOPT (w/o function evaluations)   =      0.002\n",
      "Total CPU secs in NLP function evaluations           =      0.000\n",
      "\n",
      "EXIT: Optimal Solution Found.\n",
      " \n",
      "Ipopt 3.12: Optimal Solution Found\n",
      "Solution is \n",
      "sv : Size=1, Index=None, Domain=PositiveReals\n",
      "    Key  : Lower : Value         : Upper : Fixed : Stale\n",
      "    None :     0 : 1.34381176107 :  None : False : False\n",
      "ca : Size=1, Index=None, Domain=PositiveReals\n",
      "    Key  : Lower : Value         : Upper : Fixed : Stale\n",
      "    None :     0 : 3874.25886723 :  None : False : False\n",
      "cb : Size=1, Index=None, Domain=PositiveReals\n",
      "    Key  : Lower : Value         : Upper : Fixed : Stale\n",
      "    None :     0 : 1072.43720011 :  None : False : False\n",
      "cc : Size=1, Index=None, Domain=PositiveReals\n",
      "    Key  : Lower : Value         : Upper : Fixed : Stale\n",
      "    None :     0 : 1330.09353341 :  None : False : False\n",
      "cd : Size=1, Index=None, Domain=PositiveReals\n",
      "    Key  : Lower : Value         : Upper : Fixed : Stale\n",
      "    None :     0 : 1861.60519963 :  None : False : False\n"
     ]
    }
   ],
   "source": [
    "opt = SolverFactory(\"ipopt\",solver_io=\"nl\")\n",
    "\n",
    "opt.solve(model,tee=True)\n",
    "\n",
    "print \"Solution is \"\n",
    "model.sv.display()\n",
    "model.ca.display()\n",
    "model.cb.display()\n",
    "model.cc.display()\n",
    "model.cd.display()"
   ]
  },
  {
   "cell_type": "markdown",
   "metadata": {
    "slideshow": {
     "slide_type": "slide"
    }
   },
   "source": [
    "# Black-box optimization using scipy.optimize"
   ]
  },
  {
   "cell_type": "markdown",
   "metadata": {},
   "source": [
    "Often cases, you do not have algebraic formulations of the objective functions, but instead, you have an executable, which gives you the values and you do not know what is happening inside there."
   ]
  },
  {
   "cell_type": "markdown",
   "metadata": {
    "slideshow": {
     "slide_type": "slide"
    }
   },
   "source": [
    "### Example"
   ]
  },
  {
   "cell_type": "markdown",
   "metadata": {},
   "source": [
    "Executable 'prob4' (which you need to compile before using) includes a script for two variable problem with three inequality constraints (where two of them involve only one variable). The problem is of the form\n",
    "$$\n",
    "\\min \\  f(x)\n",
    "\\\\ \\text{s.t. }g(x) <= 2\n",
    "\\\\          x\\geq 0.\n",
    "$$\n",
    "The executable reads in a file 'input.txt', which contains variable values on top of each other and outputs a file \"output.txt\", which contains on top of each other value of f, value of g, value of $x_1$, value of $x_2$, gradient of f and gradient of the contraints.\n",
    "\n",
    "Let us solve this problem using *scipy.optimize*\n"
   ]
  },
  {
   "cell_type": "code",
   "execution_count": 81,
   "metadata": {
    "collapsed": true
   },
   "outputs": [],
   "source": [
    "import csv\n",
    "def evaluate_prob4(x):\n",
    "    with open('input.txt','w') as f:\n",
    "        f.write('%f\\n%f'%(x[0],x[1])) #Write x[0] and x[1] to the input.txt file\n",
    "    !./prob4 #Execute prob4\n",
    "    val = []\n",
    "    with open('output.txt','r') as f: \n",
    "        valuereader = csv.reader(f)\n",
    "        for row in valuereader:\n",
    "            val.extend([float(i) for i in row])\n",
    "    f_val = val[0]\n",
    "    g_val = [0]*3\n",
    "    g_val[0] = 2-val[1]\n",
    "    g_val[1]=val[2]\n",
    "    g_val[2]=val[3]\n",
    "    grad_f=[val[4],val[5]]\n",
    "    grad_g = [[0,0],[0,0],[0,0]]\n",
    "    grad_g[0] = [-val[6],-val[7]]\n",
    "    grad_g[1] = [val[8],val[9]]\n",
    "    grad_g[2] = [val[10],val[11]]\n",
    "    return f_val,g_val,grad_f,grad_g\n",
    "        "
   ]
  },
  {
   "cell_type": "code",
   "execution_count": 83,
   "metadata": {
    "collapsed": false,
    "scrolled": true
   },
   "outputs": [
    {
     "data": {
      "text/plain": [
       "(3.0, [-2.0, 2.0, 0.0], [-6.0, 2.0], [[-4.0, -0.0], [1.0, 1.0], [1.0, 1.0]])"
      ]
     },
     "execution_count": 83,
     "metadata": {},
     "output_type": "execute_result"
    }
   ],
   "source": [
    "import math\n",
    "evaluate_prob4([2,0.])"
   ]
  },
  {
   "cell_type": "code",
   "execution_count": 84,
   "metadata": {
    "collapsed": true
   },
   "outputs": [],
   "source": [
    "from scipy.optimize import minimize\n",
    "\n",
    "constraint_tuple=(\n",
    "    {'type':'ineq','fun':lambda x:evaluate_prob4(x)[1][0],\\\n",
    "     'jac':lambda x:evaluate_prob4(x)[3][0]},\n",
    "    {'type':'ineq','fun':lambda x:evaluate_prob4(x)[1][1],\\\n",
    "     'jac':lambda x:evaluate_prob4(x)[3][1]},\n",
    "    {'type':'ineq','fun':lambda x:evaluate_prob4(x)[1][2],\\\n",
    "     'jac':lambda x:evaluate_prob4(x)[3][2]}\n",
    ")"
   ]
  },
  {
   "cell_type": "code",
   "execution_count": 1,
   "metadata": {
    "collapsed": false
   },
   "outputs": [
    {
     "ename": "NameError",
     "evalue": "name 'minimize' is not defined",
     "output_type": "error",
     "traceback": [
      "\u001b[1;31m---------------------------------------------------------------------------\u001b[0m",
      "\u001b[1;31mNameError\u001b[0m                                 Traceback (most recent call last)",
      "\u001b[1;32m<ipython-input-1-194b4794d5d9>\u001b[0m in \u001b[0;36m<module>\u001b[1;34m()\u001b[0m\n\u001b[1;32m----> 1\u001b[1;33m minimize(lambda x: evaluate_prob4(x)[0], [0,0], method='SLSQP'\n\u001b[0m\u001b[0;32m      2\u001b[0m                         \u001b[1;33m,\u001b[0m \u001b[0mjac\u001b[0m\u001b[1;33m=\u001b[0m\u001b[1;32mlambda\u001b[0m \u001b[0mx\u001b[0m\u001b[1;33m:\u001b[0m \u001b[0mevaluate_prob4\u001b[0m\u001b[1;33m(\u001b[0m\u001b[0mx\u001b[0m\u001b[1;33m)\u001b[0m\u001b[1;33m[\u001b[0m\u001b[1;36m2\u001b[0m\u001b[1;33m]\u001b[0m\u001b[1;33m,\u001b[0m\u001b[1;33m\u001b[0m\u001b[0m\n\u001b[0;32m      3\u001b[0m          constraints = constraint_tuple,options = {'disp':True})\n",
      "\u001b[1;31mNameError\u001b[0m: name 'minimize' is not defined"
     ]
    }
   ],
   "source": [
    "minimize(lambda x: evaluate_prob4(x)[0], [0,0], method='SLSQP'\n",
    "                        , jac=lambda x: evaluate_prob4(x)[2], \n",
    "         constraints = constraint_tuple,options = {'disp':True})"
   ]
  },
  {
   "cell_type": "markdown",
   "metadata": {
    "slideshow": {
     "slide_type": "slide"
    }
   },
   "source": [
    "# Example 3, Nonlinear multiobjective optimization"
   ]
  },
  {
   "cell_type": "markdown",
   "metadata": {},
   "source": [
    "Let us study optimization problem\n",
    "$$\n",
    "\\begin{align}\n",
    "\\min \\ & \\left(\\sum_{i=1}^{48}\\frac{\\sqrt{1+x_i^2}}{v_i},\\sum_{i=1}^{48}\\left(\\left(\\frac{x_iv_i}{\\sqrt{1+x_i^2}}+v_w\\right)^2+\\frac{v_i^2}{1+x_i^2}\\right)\\right., \\\\\n",
    "&\\qquad\\left.\\sum_{i=1}^{47}\\big|(x_{i+1}-x_i\\big|\\right)\\\\\n",
    "\\text{s.t. } & \\sum_{i=1}^{j}x_i\\leq -1\\text{ for all }j=10,11,12,13,14\\\\\n",
    "& \\left|\\sum_{i=1}^{j}x_i\\right|\\geq 2\\text{ for all }j=20,21,22,23,24\\\\\n",
    "& \\sum_{i=1}^{j}x_i\\geq 1\\text{ for all }j=30,31,32,33,34\\\\\n",
    "&\\sum_{i=1}^{48}\\frac{\\sqrt{1+x_i^2}}{v_i} \\leq 5\\\\\n",
    "&\\sum_{i=1}^{48}x_i=0\\\\\n",
    "&-10\\leq\\sum_{i=1}^{j}x_i\\leq10\\text{ for all }j=1,\\ldots,48\n",
    "&0\\leq v_i\\leq 25\\text{ for all }i=1,\\ldots,48\\\\\n",
    "&-10\\leq x_i\\leq 10\\text{ for all }i=1,\\ldots,48\\\\\n",
    "\\end{align}\n",
    "$$"
   ]
  },
  {
   "cell_type": "code",
   "execution_count": 8,
   "metadata": {
    "collapsed": false
   },
   "outputs": [],
   "source": [
    "\n",
    "from pyomo.environ import *\n",
    "# create the concrete model9\n",
    "def solve_ach(reference,lb,ub):\n",
    "    model = ConcreteModel()\n",
    "\n",
    "    vwind = 5.0\n",
    "    min_speed = 0.01\n",
    "\n",
    "\n",
    "    #f1, time used\n",
    "    def f1(model):\n",
    "        return sum([sqrt(1+model.y[i]**2)/model.v[i] for i in range(48)])\n",
    "    #f2, wind drag, directly proportional to square of speed wrt. wind\n",
    "    def f2(model):\n",
    "        return sum([((model.y[i]*model.v[i])/sqrt(1+model.y[i]**2)+vwind)**2/\n",
    "                    +model.v[i]**2*((1+model.y[i])**2) for i in range(48)])\n",
    "    #f3, maximal course changes\n",
    "    def f3(model):\n",
    "        return sum([abs(model.y[i+1]-model.y[i]) for i in range(47)])\n",
    "\n",
    "    def h1_rule(model,i):\n",
    "        return sum(model.y[j] for j in range(i))<=-1\n",
    "    def h2_rule(model,i):\n",
    "        return abs(sum(model.y[j] for j in range(i)))>=2\n",
    "    def h3_rule(model,i):\n",
    "        return sum(model.y[j] for j in range(i))>=1\n",
    "    def h4_rule(model):\n",
    "        return sum([sqrt(1+model.y[i]**2)/model.v[i] for i in range(48)])<=25\n",
    "    def h5_rule(model):\n",
    "        return sum(model.y[i] for i in range(48))==0\n",
    "\n",
    "    def f_rule(model):\n",
    "        return t\n",
    "\n",
    "    def y_init(model,i):\n",
    "        if i==0:\n",
    "            return -1\n",
    "        if i==18:\n",
    "            return -1\n",
    "        if i==24:\n",
    "            return 1\n",
    "        if i==25:\n",
    "            return 1\n",
    "        if i==26:\n",
    "            return 1\n",
    "        if i==34:\n",
    "            return -1\n",
    "        return 0\n",
    "    model.y = Var(range(48),bounds = (-10,10),initialize=y_init)\n",
    "    model.v = Var(range(48),domain=NonNegativeReals,bounds=(min_speed,25),initialize=25)\n",
    "    model.t = Var()\n",
    "    model.h1=Constraint(range(9,14),rule=h1_rule)\n",
    "    model.h2=Constraint(range(19,24),rule=h2_rule)\n",
    "    model.h3=Constraint(range(29,34),rule=h3_rule)\n",
    "    model.h4=Constraint(rule=h4_rule)\n",
    "    model.h5=Constraint(rule=h5_rule)\n",
    "    \n",
    "    def h6_rule(model,i):\n",
    "        return -10<=sum([model.y[j] for j in range(i)])<=10\n",
    "    \n",
    "    model.h6 = Constraint(range(1,48),rule=h6_rule)\n",
    "    def t_con_f1_rule(model):\n",
    "        return model.t>=(f1(model)-reference[0]-lb[0])/(ub[0]-lb[0])\n",
    "    model.t_con_f1 = Constraint(rule = t_con_f1_rule)\n",
    "    def t_con_f2_rule(model):\n",
    "        return model.t>=(f2(model)-reference[1]-lb[1])/(ub[1]-lb[1])\n",
    "    model.t_con_f2 = Constraint(rule = t_con_f2_rule)\n",
    "    def t_con_f3_rule(model):\n",
    "        return model.t>=(f3(model)-reference[2]-lb[2])/(ub[2]-lb[2])\n",
    "    model.t_con_f3 = Constraint(rule = t_con_f3_rule)\n",
    "    model.f = Objective(expr = model.t+1e-10*(f1(model)+f2(model)+f3(model)))\n",
    "    tee =False\n",
    "    opt = SolverFactory(\"ipopt\",solver_io=\"nl\")\n",
    "    opt.options.max_iter=100000\n",
    "    #opt.options.constr_viol_tol=0.01\n",
    "    #opt.options.halt_on_ampl_error = \"yes\"\n",
    "\n",
    "    opt.solve(model,tee=tee)\n",
    "    return [[value(f1(model)),value(f2(model)),value(f3(model))],[model.y,model.v]]\n"
   ]
  },
  {
   "cell_type": "code",
   "execution_count": 9,
   "metadata": {
    "collapsed": false
   },
   "outputs": [
    {
     "name": "stdout",
     "output_type": "stream",
     "text": [
      "WARNING - Loading a SolverResults object with a warning status into model=unknown; message from solver=Ipopt 3.12\\x3a Maximum Number of Iterations Exceeded.\n",
      "WARNING - Loading a SolverResults object with a warning status into model=unknown; message from solver=Ipopt 3.12\\x3a Maximum Number of Iterations Exceeded.\n",
      "[[25133.93493837363, 759264160.1226324, 860.0], [25.000000247539568, 11188.12151236145, 147.55358533550918], [12673.93579526275, 289156195.6539606, 151.2406436251979]]\n"
     ]
    }
   ],
   "source": [
    "lb_ = [0,0,0]\n",
    "ub_ = [1,1,1]\n",
    "values =[]\n",
    "for i in range(3):\n",
    "    reference = [1e10,1e10,1e10]\n",
    "    reference[i]=0\n",
    "    values.append(solve_ach(reference,ub_,lb_)[0])\n",
    "print values"
   ]
  },
  {
   "cell_type": "code",
   "execution_count": null,
   "metadata": {
    "collapsed": false
   },
   "outputs": [],
   "source": [
    "lb = [0,0,0]\n",
    "ub = [1,1,1]\n",
    "for i in range(3):\n",
    "    lb[i] = min([values[j][i] for j in range(3)])\n",
    "    ub[i] = max([values[j][i] for j in range(3)])\n",
    "print lb\n",
    "print ub"
   ]
  },
  {
   "cell_type": "code",
   "execution_count": null,
   "metadata": {
    "collapsed": false
   },
   "outputs": [],
   "source": [
    "[f,x] = solve_ach([(a+b)/2 for (a,b) in zip(lb,ub)],lb,ub) #Compromise solution\n",
    "#[f,x] = solve_ach([1e10,1e10,0],lb,ub) #Minimize the third objective\n"
   ]
  },
  {
   "cell_type": "code",
   "execution_count": 8,
   "metadata": {
    "collapsed": false
   },
   "outputs": [
    {
     "ename": "ImportError",
     "evalue": "No module named matplotlib.pyplot",
     "output_type": "error",
     "traceback": [
      "\u001b[1;31m---------------------------------------------------------------------------\u001b[0m",
      "\u001b[1;31mImportError\u001b[0m                               Traceback (most recent call last)",
      "\u001b[1;32m<ipython-input-8-4b5019a9f5c0>\u001b[0m in \u001b[0;36m<module>\u001b[1;34m()\u001b[0m\n\u001b[1;32m----> 1\u001b[1;33m \u001b[1;32mimport\u001b[0m \u001b[0mmatplotlib\u001b[0m\u001b[1;33m.\u001b[0m\u001b[0mpyplot\u001b[0m \u001b[1;32mas\u001b[0m \u001b[0mplt\u001b[0m\u001b[1;33m\u001b[0m\u001b[0m\n\u001b[0m\u001b[0;32m      2\u001b[0m \u001b[1;32mfrom\u001b[0m \u001b[0mmatplotlib\u001b[0m\u001b[1;33m.\u001b[0m\u001b[0mpatches\u001b[0m \u001b[1;32mimport\u001b[0m \u001b[0mRectangle\u001b[0m\u001b[1;33m\u001b[0m\u001b[0m\n\u001b[0;32m      3\u001b[0m \u001b[0mplt\u001b[0m\u001b[1;33m.\u001b[0m\u001b[0mplot\u001b[0m\u001b[1;33m(\u001b[0m\u001b[1;33m[\u001b[0m\u001b[0msum\u001b[0m\u001b[1;33m(\u001b[0m\u001b[0mvalue\u001b[0m\u001b[1;33m(\u001b[0m\u001b[0mx\u001b[0m\u001b[1;33m[\u001b[0m\u001b[1;36m0\u001b[0m\u001b[1;33m]\u001b[0m\u001b[1;33m[\u001b[0m\u001b[0mj\u001b[0m\u001b[1;33m]\u001b[0m\u001b[1;33m)\u001b[0m \u001b[1;32mfor\u001b[0m \u001b[0mj\u001b[0m \u001b[1;32min\u001b[0m \u001b[0mrange\u001b[0m\u001b[1;33m(\u001b[0m\u001b[0mi\u001b[0m\u001b[1;33m)\u001b[0m\u001b[1;33m)\u001b[0m \u001b[1;32mfor\u001b[0m \u001b[0mi\u001b[0m \u001b[1;32min\u001b[0m \u001b[0mrange\u001b[0m\u001b[1;33m(\u001b[0m\u001b[1;36m49\u001b[0m\u001b[1;33m)\u001b[0m\u001b[1;33m]\u001b[0m\u001b[1;33m)\u001b[0m\u001b[1;33m\u001b[0m\u001b[0m\n\u001b[0;32m      4\u001b[0m \u001b[0mcurrentAxis\u001b[0m \u001b[1;33m=\u001b[0m \u001b[0mplt\u001b[0m\u001b[1;33m.\u001b[0m\u001b[0mgca\u001b[0m\u001b[1;33m(\u001b[0m\u001b[1;33m)\u001b[0m\u001b[1;33m\u001b[0m\u001b[0m\n\u001b[0;32m      5\u001b[0m \u001b[0mcurrentAxis\u001b[0m\u001b[1;33m.\u001b[0m\u001b[0madd_patch\u001b[0m\u001b[1;33m(\u001b[0m\u001b[0mRectangle\u001b[0m\u001b[1;33m(\u001b[0m\u001b[1;33m(\u001b[0m\u001b[1;36m10\u001b[0m\u001b[1;33m,\u001b[0m \u001b[1;33m-\u001b[0m\u001b[1;36m1\u001b[0m\u001b[1;33m)\u001b[0m\u001b[1;33m,\u001b[0m\u001b[1;36m4\u001b[0m\u001b[1;33m,\u001b[0m\u001b[1;36m10\u001b[0m\u001b[1;33m)\u001b[0m\u001b[1;33m)\u001b[0m\u001b[1;33m\u001b[0m\u001b[0m\n",
      "\u001b[1;31mImportError\u001b[0m: No module named matplotlib.pyplot"
     ]
    }
   ],
   "source": [
    "import matplotlib.pyplot as plt\n",
    "from matplotlib.patches import Rectangle\n",
    "plt.plot([sum(value(x[0][j]) for j in range(i)) for i in range(49)])\n",
    "currentAxis = plt.gca()\n",
    "currentAxis.add_patch(Rectangle((10, -1),4,10))\n",
    "currentAxis.add_patch(Rectangle((20, -2),4,4))\n",
    "currentAxis.add_patch(Rectangle((30, -10),4,11))\n",
    "plt.show()"
   ]
  }
 ],
 "metadata": {
  "celltoolbar": "Slideshow",
  "kernelspec": {
   "display_name": "Python 2",
   "language": "python",
   "name": "python2"
  },
  "language_info": {
   "codemirror_mode": {
    "name": "ipython",
    "version": 2
   },
   "file_extension": ".py",
   "mimetype": "text/x-python",
   "name": "python",
   "nbconvert_exporter": "python",
   "pygments_lexer": "ipython2",
   "version": "2.7.11"
  }
 },
 "nbformat": 4,
 "nbformat_minor": 0
}
