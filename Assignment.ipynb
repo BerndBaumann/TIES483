{
 "cells": [
  {
   "cell_type": "markdown",
   "metadata": {},
   "source": [
    "# Assignment"
   ]
  },
  {
   "cell_type": "markdown",
   "metadata": {},
   "source": [
    "## Instructions\n",
    "\n",
    "* Write a report of all the problems that you have solved and include the code that you used.\n",
    "\n",
    "* You can use any packages or tools that you see most fit for the purpose.\n",
    "\n",
    "* Your work will be evaluated based on your report and the tools used."
   ]
  },
  {
   "cell_type": "markdown",
   "metadata": {},
   "source": [
    "## Problem 1"
   ]
  },
  {
   "cell_type": "markdown",
   "metadata": {
    "collapsed": true
   },
   "source": [
    "A window is being built and the bottom is a rectangle and the top is a semicircle. If there is 12 m of framing materials what must the dimensions of the window be to make the window area as big as possible?\n",
    "\n",
    "Model the decision problem as an optimization problem and solve it with a method of your choosing. Analyse the result."
   ]
  },
  {
   "cell_type": "markdown",
   "metadata": {},
   "source": [
    "## Problem 2"
   ]
  },
  {
   "cell_type": "markdown",
   "metadata": {},
   "source": [
    "\n",
    "\n",
    "The 10-dimensional Robsenbrock function (one of the variants) is defined as\n",
    "$$\n",
    "f(\\mathbf{x}) = \\sum_{i=1}^{9} 100 (x_{i+1} - x_i^2 )^2 + (1-x_i)^2\n",
    "$$\n",
    "for $x\\in\\mathbb R^{10}$. \n",
    "\n",
    "Compare at least two different optimization method's performance in minimizing this function over $\\mathbb R^{10}$. You can decide the method of comparison as the one that makes most sense to you."
   ]
  },
  {
   "cell_type": "markdown",
   "metadata": {},
   "source": [
    "## Problem 3"
   ]
  },
  {
   "cell_type": "markdown",
   "metadata": {},
   "source": [
    "The problem will be available at http://mhartikainen.pythonanywhere.com/evaluate/. The call http://mhartikainen.pythonanywhere.com/evaluate/1.0/2.0/3.0/4.0 evaluates the optimization problem for variable values $x = (1.0, 2.0,3.0,4.0)$. \n",
    "\n",
    "The format of the problem is\n",
    "$$\n",
    "\\begin{align}\n",
    "\\min \\ &f(x)\\\\\n",
    "\\text{s.t. }&g_1(x) \\geq 0\\\\\n",
    "        &h_1(x) = 0\\\\\n",
    "        &h_2(x) = 0\\\\\n",
    "        &x\\in \\mathbb R^4.        \n",
    "\\end{align}\n",
    "$$\n",
    "Calling the function will result in a json file, which will tell you all the information about the problem that you have available.\n",
    "\n",
    "Solve the optimization problem, when you can make function calls only using a RESTful API (only the get method implemented). Use the tools and optimization method of your choosing. Analyse the results."
   ]
  },
  {
   "cell_type": "markdown",
   "metadata": {},
   "source": [
    "## Problem 4"
   ]
  },
  {
   "cell_type": "markdown",
   "metadata": {},
   "source": [
    "Study biobjective optimization problem\n",
    "$$\n",
    "\\begin{align}\n",
    "\\min \\ &(\\|x-(1,0)\\|,\\|x-(0,1)\\|\\\\\n",
    "\\text{s.t. }&x\\in \\mathbb R^2.\n",
    "\\end{align}\n",
    "$$\n",
    "Try to generate an evenly spread representation of the Pareto front. Plot the results in both the decision and objective spaces."
   ]
  }
 ],
 "metadata": {
  "kernelspec": {
   "display_name": "Python 2",
   "language": "python",
   "name": "python2"
  },
  "language_info": {
   "codemirror_mode": {
    "name": "ipython",
    "version": 2
   },
   "file_extension": ".py",
   "mimetype": "text/x-python",
   "name": "python",
   "nbconvert_exporter": "python",
   "pygments_lexer": "ipython2",
   "version": "2.7.5"
  }
 },
 "nbformat": 4,
 "nbformat_minor": 0
}
