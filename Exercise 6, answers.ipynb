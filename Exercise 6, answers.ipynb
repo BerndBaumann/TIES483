{
 "cells": [
  {
   "cell_type": "markdown",
   "metadata": {
    "slideshow": {
     "slide_type": "slide"
    }
   },
   "source": [
    "# Exercise 6, answers"
   ]
  },
  {
   "cell_type": "markdown",
   "metadata": {
    "slideshow": {
     "slide_type": "slide"
    }
   },
   "source": [
    "## Problem 1"
   ]
  },
  {
   "cell_type": "code",
   "execution_count": 26,
   "metadata": {
    "collapsed": false,
    "slideshow": {
     "slide_type": "subslide"
    }
   },
   "outputs": [
    {
     "name": "stdout",
     "output_type": "stream",
     "text": [
      "\n",
      "\n",
      "******************************************************************************\n",
      "This program contains Ipopt, a library for large-scale nonlinear optimization.\n",
      " Ipopt is released as open source code under the Eclipse Public License (EPL).\n",
      "         For more information visit http://projects.coin-or.org/Ipopt\n",
      "******************************************************************************\n",
      "\n",
      "This is Ipopt version 3.12, running with linear solver mumps.\n",
      "NOTE: Other linear solvers might be more efficient (see Ipopt documentation).\n",
      "\n",
      "Number of nonzeros in equality constraint Jacobian...:        0\n",
      "Number of nonzeros in inequality constraint Jacobian.:        4\n",
      "Number of nonzeros in Lagrangian Hessian.............:        3\n",
      "\n",
      "Total number of variables............................:        3\n",
      "                     variables with only lower bounds:        0\n",
      "                variables with lower and upper bounds:        0\n",
      "                     variables with only upper bounds:        0\n",
      "Total number of equality constraints.................:        0\n",
      "Total number of inequality constraints...............:        3\n",
      "        inequality constraints with only lower bounds:        3\n",
      "   inequality constraints with lower and upper bounds:        0\n",
      "        inequality constraints with only upper bounds:        0\n",
      "\n",
      "iter    objective    inf_pr   inf_du lg(mu)  ||d||  lg(rg) alpha_du alpha_pr  ls\n",
      "   0  0.0000000e+00 1.00e+00 5.00e-01  -1.0 0.00e+00    -  0.00e+00 0.00e+00   0\n",
      "   1  2.2129049e-06 1.00e+00 1.09e+02  -1.0 1.01e+00    -  1.00e+00 9.80e-03h  1\n",
      "   2  2.4328193e-06 1.00e+00 1.55e+05  -1.0 1.00e+00    -  1.39e-01 9.90e-05h  1\n",
      "   3  1.9533370e-02 9.97e-01 9.82e+04  -1.0 1.60e+05    -  6.81e-08 9.04e-07h  1\n",
      "   4  8.5283692e-01 0.00e+00 2.91e+06  -1.0 1.57e+01    -  1.18e-02 6.25e-02f  5\n",
      "   5  7.4508982e-01 0.00e+00 1.19e+07  -1.0 1.19e-01   8.0 3.17e-04 1.00e+00f  1\n",
      "   6  7.3522284e-01 0.00e+00 6.57e+05  -1.0 9.61e-03   7.5 7.73e-01 1.00e+00h  1\n",
      "   7  7.3514688e-01 0.00e+00 9.59e+02  -1.0 7.35e-05   7.0 1.00e+00 1.00e+00h  1\n",
      "   8  7.3514746e-01 0.00e+00 3.58e+00  -1.0 9.67e-07   6.6 1.00e+00 1.00e+00h  1\n",
      "   9  7.6476859e-01 0.00e+00 3.06e-02  -1.0 2.25e-02    -  1.00e+00 1.00e+00f  1\n",
      "iter    objective    inf_pr   inf_du lg(mu)  ||d||  lg(rg) alpha_du alpha_pr  ls\n",
      "  10  6.9848511e-01 0.00e+00 1.98e-03  -2.5 5.37e-02    -  1.00e+00 1.00e+00f  1\n",
      "  11  6.9344736e-01 0.00e+00 1.59e-05  -3.8 4.78e-03    -  1.00e+00 1.00e+00h  1\n",
      "  12  6.9315086e-01 0.00e+00 5.53e-08  -5.7 4.18e-04    -  1.00e+00 1.00e+00h  1\n",
      "  13  6.9314717e-01 0.00e+00 8.49e-12  -8.6 5.40e-06    -  1.00e+00 1.00e+00h  1\n",
      "\n",
      "Number of Iterations....: 13\n",
      "\n",
      "                                   (scaled)                 (unscaled)\n",
      "Objective...............:   6.9314717223847255e-01    6.9314717223847255e-01\n",
      "Dual infeasibility......:   8.4893203577962595e-12    8.4893203577962595e-12\n",
      "Constraint violation....:   0.0000000000000000e+00    0.0000000000000000e+00\n",
      "Complementarity.........:   2.5092981987187852e-09    2.5092981987187852e-09\n",
      "Overall NLP error.......:   2.5092981987187852e-09    2.5092981987187852e-09\n",
      "\n",
      "\n",
      "Number of objective function evaluations             = 20\n",
      "Number of objective gradient evaluations             = 14\n",
      "Number of equality constraint evaluations            = 0\n",
      "Number of inequality constraint evaluations          = 20\n",
      "Number of equality constraint Jacobian evaluations   = 0\n",
      "Number of inequality constraint Jacobian evaluations = 14\n",
      "Number of Lagrangian Hessian evaluations             = 13\n",
      "Total CPU secs in IPOPT (w/o function evaluations)   =      0.004\n",
      "Total CPU secs in NLP function evaluations           =      0.000\n",
      "\n",
      "EXIT: Optimal Solution Found.\n",
      " \n",
      "Ipopt 3.12: Optimal Solution Found\n",
      "Optimal solutions is \n",
      "x : Size=3, Index=x_index, Domain=Reals\n",
      "    Key : Lower : Value              : Upper : Fixed : Stale\n",
      "      1 :  None :     0.999999999169 :  None : False : False\n",
      "      2 :  None :                0.0 :  None : False : False\n",
      "      3 :  None : -7.49070198136e-09 :  None : False : False\n",
      "Objective value at the optimal solution is \n",
      "OBJ : Size=1, Index=None, Active=True\n",
      "    Key  : Active : Value\n",
      "    None :   True : 0.693147172238\n"
     ]
    }
   ],
   "source": [
    "from pyomo.environ import *\n",
    "\n",
    "model = ConcreteModel()\n",
    "#Three variables\n",
    "model.x = Var([1,2,3])\n",
    "#Objective function including powers and logarithm\n",
    "model.OBJ = Objective(expr = log(model.x[1]**2+1)+model.x[2]**4\n",
    "                      +model.x[1]*model.x[3]) #Objective function\n",
    "model.constr = Constraint(expr = model.x[1]**3-model.x[2]**2>=1)\n",
    "model.box1 = Constraint(expr = model.x[1]>=0)\n",
    "model.box2 = Constraint(expr = model.x[3]>=0)\n",
    "\n",
    "from pyomo.opt import SolverFactory #Import interfaces to solvers\n",
    "\n",
    "opt = SolverFactory(\"ipopt\") #Use ipopt\n",
    "\n",
    "res = opt.solve(model, tee=True) #Solve the  problem and print the output\n",
    "\n",
    "print \"Optimal solutions is \"\n",
    "model.x.display()\n",
    "print \"Objective value at the optimal solution is \"\n",
    "model.OBJ.display()"
   ]
  },
  {
   "cell_type": "markdown",
   "metadata": {
    "slideshow": {
     "slide_type": "slide"
    }
   },
   "source": [
    "## Problem 2"
   ]
  },
  {
   "cell_type": "markdown",
   "metadata": {
    "slideshow": {
     "slide_type": "subslide"
    }
   },
   "source": [
    "The set Pareto optimal solutions is $\\{(t,1-t):t\\in[0,1]\\}$.\n",
    "\n",
    "Let us denote set of Pareto optimal solutions by $PS$ and show that $PS=\\{(t,1-t):t\\in[0,1]\\}$.\n",
    "\n",
    "$PS\\supset\\{(t,1-t):t\\in[0,1]\\}$:\n",
    "\n",
    "Let's assume that there exists $t\\in[0,1]$, which is not Pareto optimal. Then there exists $x=(x_1,x_2)\\in\\mathbb R^2$ and $t\\in[0,1]$ such that\n",
    "$$\n",
    "\\left\\{\n",
    "\\begin{align}\n",
    "\\|x-(1,0)\\|^2<\\|(t,1-t)-(1,0) \\|^2,\\text{ and}\\\\\n",
    "\\|x-(0,1)\\|^2\\leq\\|(t,1-t)-(0,1) \\|^2\n",
    "\\end{align}\n",
    "\\right.\n",
    "$$\n",
    "or\n",
    "$$\n",
    "\\left\\{\n",
    "\\begin{align}\n",
    "\\|x-(1,0)\\|^2\\leq\\|(t,1-t)-(1,0) \\|^2,\\text{ and}\\\\\n",
    "\\|x-(0,1)\\|^2<\\|(t,1-t)-(0,1)\\|^2.\n",
    "\\end{align}\n",
    "\\right.\n",
    "$$\n",
    "\n",
    "But in both cases\n",
    "\n",
    "$$\n",
    "\\sqrt{2} = \\|(1,0)-(0,1)\\|\\\\\n",
    "\\leq \\|(1,0)-x\\|+\\|x-(0,1)\\|\\\\\n",
    "< \\|(t,1-t)-(1,0) \\|+\\|(t,1-t)-(0,1) \\|\\\\\n",
    "= \\|(1,0)-(0,1)\\| =\\sqrt{2}.\n",
    "$$\n",
    "because the point $(t,1-t)$ is on the straight line from $(1,0)$ to $(0,1)$.\n",
    "\n",
    "Thus, neither one of the requirements of non-Pareto optimality can hold. Thus, the point is Pareto optimal.\n",
    "\n",
    "$PS\\subset\\{(t,1-t):t\\in[0,1]\\}$:\n",
    "\n",
    "Let's assume a Pareto optimal solution $x$. This follows from the triangle inequality."
   ]
  },
  {
   "cell_type": "markdown",
   "metadata": {
    "slideshow": {
     "slide_type": "slide"
    }
   },
   "source": [
    "## Problem 3"
   ]
  },
  {
   "cell_type": "markdown",
   "metadata": {},
   "source": [
    "Ideal:\n",
    "\n",
    "To solve\n",
    "$$\n",
    "\\min \\|x-(1,0)\\|^2\\\\\n",
    "\\text{s.t. }x\\in \\mathbb R^2.\n",
    "$$\n",
    "The solution of this problem is naturally $x = (1,0)$ and the minimum is $0$. Minimizing the second objective give $x=(0,1)$ and the minimum is again $0$. Thus, the ideal is $(0,0)$.\n",
    "\n",
    "Now, the problem has just two objectives and thus, we get the components of the nadir by optimizing\n",
    "$$\n",
    "\\min f_1(x)\\\\\n",
    "\\text{s.t. }f_2(x)\\leq z^{ideal}_2\n",
    "$$\n",
    "and\n",
    "$$\n",
    "\\min f_2(x)\\\\\n",
    "\\text{s.t. }f_1(x)\\leq z^{ideal}_1.\n",
    "$$\n",
    "\n",
    "The solution of this problem is Pareto optimal because of the epsilon constraint method and also because the other one of the objectives is at the minimum and the other one cannot be grown with growing the other. Thus, the components of the nadir are at least the optimal values of the above optimization problems.\n",
    "\n",
    "On the other hand, the components of the nadir have to be at most the optimal values of the above optimization problems, because if this was not the case, then the solution would not be Pareto optimal.\n",
    "\n",
    "By solving these optimization problems, we get nadir (2,2)."
   ]
  },
  {
   "cell_type": "markdown",
   "metadata": {
    "slideshow": {
     "slide_type": "slide"
    }
   },
   "source": [
    "## Problem 4"
   ]
  },
  {
   "cell_type": "code",
   "execution_count": 27,
   "metadata": {
    "collapsed": true,
    "slideshow": {
     "slide_type": "subslide"
    }
   },
   "outputs": [],
   "source": [
    "def prob(x):\n",
    "    return [(x[0]-1)**2+x[1]**2,x[0]**2+(x[1]-1)**2]"
   ]
  },
  {
   "cell_type": "markdown",
   "metadata": {
    "slideshow": {
     "slide_type": "-"
    }
   },
   "source": [
    "Let's do this using Pyomo:"
   ]
  },
  {
   "cell_type": "code",
   "execution_count": 29,
   "metadata": {
    "collapsed": false
   },
   "outputs": [],
   "source": [
    "from pyomo.environ import *\n",
    "from pyomo.opt import SolverFactory #Import interfaces to solvers\n",
    "\n",
    "def weighting_method_pyomo(f,w):\n",
    "    points = []\n",
    "    for wi in w:\n",
    "        model = ConcreteModel()\n",
    "        model.x = Var([0,1])\n",
    "        #weighted sum\n",
    "        model.obj = Objective(expr = wi[0]*f(model.x)[0]+wi[1]*f(model.x)[1])\n",
    "        opt = SolverFactory(\"ipopt\") #Use ipopt\n",
    "        #Combination of expression and function\n",
    "        res=opt.solve(model) #Solve the problem\n",
    "        points.append([model.x[0].value,model.x[1].value]) #We should check for optimality...\n",
    "    return points"
   ]
  },
  {
   "cell_type": "code",
   "execution_count": 30,
   "metadata": {
    "collapsed": false
   },
   "outputs": [],
   "source": [
    "w = np.random.random((500,2)) #500 random weights\n",
    "repr = weighting_method_pyomo(prob,w)"
   ]
  },
  {
   "cell_type": "markdown",
   "metadata": {},
   "source": [
    "**Plot the solutions in the objective space**"
   ]
  },
  {
   "cell_type": "code",
   "execution_count": 33,
   "metadata": {
    "collapsed": false
   },
   "outputs": [],
   "source": [
    "import matplotlib.pyplot as plt\n",
    "f_repr_ws = [prob(repri) for repri in repr]\n",
    "fig = plt.figure()\n",
    "plt.scatter([z[0] for z in f_repr_ws],[z[1] for z in f_repr_ws])\n",
    "plt.show()"
   ]
  },
  {
   "cell_type": "markdown",
   "metadata": {},
   "source": [
    "**Plot the solutions in the decision space**"
   ]
  },
  {
   "cell_type": "code",
   "execution_count": 32,
   "metadata": {
    "collapsed": true
   },
   "outputs": [],
   "source": [
    "import matplotlib.pyplot as plt\n",
    "fig = plt.figure()\n",
    "plt.scatter([x[0] for x in repr],[x[1] for x in repr])\n",
    "plt.show()"
   ]
  },
  {
   "cell_type": "markdown",
   "metadata": {
    "slideshow": {
     "slide_type": "subslide"
    }
   },
   "source": [
    "**What do we notice?**"
   ]
  },
  {
   "cell_type": "markdown",
   "metadata": {},
   "source": [
    "In this problem, the weighting method works. This is because the objective functions are convex.\n",
    "\n",
    "Working here means that the method produces an even representation of the whole Pareto optimal set."
   ]
  }
 ],
 "metadata": {
  "celltoolbar": "Slideshow",
  "kernelspec": {
   "display_name": "Python 2",
   "language": "python",
   "name": "python2"
  },
  "language_info": {
   "codemirror_mode": {
    "name": "ipython",
    "version": 2
   },
   "file_extension": ".py",
   "mimetype": "text/x-python",
   "name": "python",
   "nbconvert_exporter": "python",
   "pygments_lexer": "ipython2",
   "version": "2.7.5"
  }
 },
 "nbformat": 4,
 "nbformat_minor": 0
}
