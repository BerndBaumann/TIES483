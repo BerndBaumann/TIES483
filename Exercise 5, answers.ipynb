{
 "cells": [
  {
   "cell_type": "code",
   "execution_count": 24,
   "metadata": {
    "collapsed": true
   },
   "outputs": [],
   "source": [
    "def f_demo5(x):\n",
    "    return x[0]**2+x[1]**2+x[2]**3+(1-x[3])**2,[],[x[0]**2+x[1]**2-1,x[0]**2+x[2]**2-1]"
   ]
  },
  {
   "cell_type": "markdown",
   "metadata": {
    "slideshow": {
     "slide_type": "slide"
    }
   },
   "source": [
    "# Exercise 5, answers"
   ]
  },
  {
   "cell_type": "markdown",
   "metadata": {
    "slideshow": {
     "slide_type": "slide"
    }
   },
   "source": [
    "## Problem 1"
   ]
  },
  {
   "cell_type": "code",
   "execution_count": 25,
   "metadata": {
    "collapsed": true,
    "slideshow": {
     "slide_type": "-"
    }
   },
   "outputs": [],
   "source": [
    "import numpy as np\n",
    "import ad\n",
    "\n",
    "\n",
    "\n",
    "#if k=0, returns the gradient of lagrangian, if k=1, returns the hessian\n",
    "def diff_L(f,x,m,k):\n",
    "    #Define the lagrangian for given m and f\n",
    "    L = lambda x_: f(x_)[0] + (np.matrix(f(x_)[2])*np.matrix(m).transpose())[0,0]\n",
    "    return ad.gh(L)[k](x)\n",
    "#Returns the gradients of the equality constraints\n",
    "def grad_h(f,x):\n",
    "    return  [ad.gh(lambda y: \n",
    "            f(y)[2][i])[0](x) for i in range(len(f(x)[2]))] \n",
    "\n",
    "#Solves the quadratic problem inside the SQP method\n",
    "def solve_QP(f,x,m):\n",
    "    left_side_first_row = np.concatenate((\n",
    "    np.matrix(diff_L(f,x,m,1)),\n",
    "    np.matrix(grad_h(f,x)).transpose()),axis=1)\n",
    "    left_side_second_row = np.concatenate((\n",
    "    np.matrix(grad_h(f,x)),\n",
    "    np.matrix(np.zeros((len(f(x)[2]),len(f(x)[2]))))),axis=1)\n",
    "    right_hand_side = np.concatenate((\n",
    "    -1*np.matrix(diff_L(f,x,m,0)).transpose(),\n",
    "    -np.matrix(f(x)[2]).transpose()),axis = 0)\n",
    "    left_hand_side = np.concatenate((\n",
    "                                    left_side_first_row,\n",
    "                                    left_side_second_row),axis = 0)\n",
    "    temp = np.linalg.solve(left_hand_side,right_hand_side)\n",
    "    return temp[:len(x)],temp[len(x):]\n",
    "    \n",
    "    \n",
    "\n",
    "def SQP(f,start,precision):\n",
    "    x = start\n",
    "    m = np.ones(len(f(x)[2]))\n",
    "    f_old = float('inf')\n",
    "    f_new = f(x)[0]\n",
    "    while abs(f_old-f_new)>precision:\n",
    "        print x\n",
    "        f_old = f_new\n",
    "        (p,v) = solve_QP(f,x,m)\n",
    "        x = x+np.array(p.transpose())[0]\n",
    "        m = m+v\n",
    "        f_new = f(x)[0]\n",
    "    return x"
   ]
  },
  {
   "cell_type": "code",
   "execution_count": 31,
   "metadata": {
    "collapsed": false
   },
   "outputs": [
    {
     "name": "stdout",
     "output_type": "stream",
     "text": [
      "[0.1, 0.1, 0.1, 1.0]\n",
      "[ 2.66904762  2.43095238  2.43095238  1.        ]\n",
      "[ 1.43316532  1.31285412  1.31285412  1.        ]\n",
      "[ 0.89811129  0.8391126   0.8391126   1.        ]\n",
      "[ 0.7232535   0.72194696  0.72194696  1.        ]\n",
      "[ 0.5275908   0.88728073  0.88728073  1.        ]\n",
      "[ 3.07171309 -0.66247127 -0.66247127  1.        ]\n",
      "[ 1.69814965 -0.33347293 -0.33347293  1.        ]\n",
      "[ 1.13944518 -0.18745083 -0.18745083  1.        ]\n",
      "[ 1.00162637 -0.13570611 -0.13570611  1.        ]\n",
      "[ 0.993672   -0.11456882 -0.11456882  1.        ]\n",
      "[ 0.9951009  -0.09994974 -0.09994974  1.        ]\n",
      "[ 0.99614324 -0.08849291 -0.08849291  1.        ]\n",
      "[ 0.99689678 -0.07926269 -0.07926269  1.        ]\n",
      "[ 0.99745626 -0.07168508 -0.07168508  1.        ]\n",
      "[ 0.99788143 -0.06536638 -0.06536638  1.        ]\n",
      "[ 0.99821115 -0.06002606 -0.06002606  1.        ]\n",
      "[ 0.99847142 -0.05545938 -0.05545938  1.        ]\n",
      "[ 0.9986801  -0.05151381 -0.05151381  1.        ]\n",
      "[ 0.99884973 -0.04807369 -0.04807369  1.        ]\n",
      "[ 0.99898932 -0.04504989 -0.04504989  1.        ]\n",
      "[ 0.99910547 -0.04237271 -0.04237271  1.        ]\n",
      "[ 0.99920306 -0.03998695 -0.03998695  1.        ]\n"
     ]
    },
    {
     "data": {
      "text/plain": [
       "array([ 0.99928579, -0.03784837, -0.03784837,  1.        ])"
      ]
     },
     "execution_count": 31,
     "metadata": {},
     "output_type": "execute_result"
    }
   ],
   "source": [
    "SQP(f_demo5,[0.1,0.1,0.1,1.],0.00001)"
   ]
  },
  {
   "cell_type": "markdown",
   "metadata": {
    "slideshow": {
     "slide_type": "subslide"
    }
   },
   "source": [
    "### What is going on in here?\n",
    "\n",
    "* Many feasible solutions actually satisfy KKT conditions, but are not global optima\n",
    "\n",
    "\n",
    "* In addition, the problem has multiple local but not global optima\n",
    "\n",
    "\n"
   ]
  },
  {
   "cell_type": "markdown",
   "metadata": {
    "slideshow": {
     "slide_type": "slide"
    }
   },
   "source": [
    "## Problem 2"
   ]
  },
  {
   "cell_type": "code",
   "execution_count": 65,
   "metadata": {
    "collapsed": true
   },
   "outputs": [],
   "source": [
    "def augmented_langrangian(f,x,mu,c):\n",
    "    second_term = float(numpy.matrix(mu)*numpy.matrix(f(x)[2]).\n",
    "                    transpose())\n",
    "    third_term = 0.5*c*numpy.linalg.norm(f(x)[2])**2\n",
    "    return f(x)[0]-second_term+third_term"
   ]
  },
  {
   "cell_type": "code",
   "execution_count": 85,
   "metadata": {
    "collapsed": true
   },
   "outputs": [],
   "source": [
    "from scipy.optimize import minimize\n",
    "import numpy\n",
    "def augmented_langrangian_method(f,start,mu0,c0):\n",
    "    x_old = [float('inf')]*4\n",
    "    x_new = start\n",
    "    mu = mu0\n",
    "    c = c0\n",
    "    while numpy.linalg.norm(f(x_new)[2])>0.000001:\n",
    "        res = minimize(lambda x:augmented_langrangian(f,x,mu,c),x_new)\n",
    "        x_old = x_new\n",
    "        mu = mu-c*numpy.matrix(f(res.x)[2])\n",
    "        x_new = res.x\n",
    "        c=2*c\n",
    "    return x_new,c"
   ]
  },
  {
   "cell_type": "code",
   "execution_count": 66,
   "metadata": {
    "collapsed": false
   },
   "outputs": [
    {
     "name": "stdout",
     "output_type": "stream",
     "text": [
      "Automatic pdb calling has been turned ON\n"
     ]
    }
   ],
   "source": [
    "%pdb"
   ]
  },
  {
   "cell_type": "code",
   "execution_count": 86,
   "metadata": {
    "collapsed": false
   },
   "outputs": [
    {
     "data": {
      "text/plain": [
       "(array([  1.93341446e-07,   1.00000001e+00,  -1.00000002e+00,\n",
       "          1.00000002e+00]), 256)"
      ]
     },
     "execution_count": 86,
     "metadata": {},
     "output_type": "execute_result"
    }
   ],
   "source": [
    "augmented_langrangian_method(f_demo5,[1.,1.,1,1.],[1,1],1)"
   ]
  },
  {
   "cell_type": "markdown",
   "metadata": {
    "slideshow": {
     "slide_type": "slide"
    }
   },
   "source": [
    "## Problem 3"
   ]
  },
  {
   "cell_type": "markdown",
   "metadata": {},
   "source": [
    "Now, the stability rule becomes\n",
    "$$\n",
    "(2x_1,2x_2)-\\mu(1,1) = (0,0),\n",
    "$$\n",
    "and completementary rule becomes\n",
    "$$\n",
    "\\mu(x_1+x_2-1) = 0.\n",
    "$$\n",
    "Thus, we need to have\n",
    "$$\n",
    "\\left\\{\n",
    "\\begin{align}\n",
    "2x_1-\\mu=0\\\\\n",
    "2x_2-\\mu=0\\\\\n",
    "\\mu(x_1+x_2-1) = 0.\n",
    "\\end{align}\n",
    "\\right.\n",
    "$$\n",
    "Now deducting equation (2), from equation (1) gives $2x_1-2x_2=0$, thus $x_1=x_2$.  Now if $\\mu= 0$, then $x_1=x_2=0$. However, this solution is not feasible. Thus, $\\mu\\neq0$, which implies $x_1+x_2-1=0$, which gives $x_1=x_2=\\frac12$ and, thus, $\\mu=1$. These variables satisfy KKT conditions.\n",
    "\n",
    "Because the problem is quadratic, it has an optimal solution. Since only solution satisfies KKT conditions, this solution optimal."
   ]
  },
  {
   "cell_type": "markdown",
   "metadata": {
    "slideshow": {
     "slide_type": "slide"
    }
   },
   "source": [
    "## Problem 4"
   ]
  },
  {
   "cell_type": "markdown",
   "metadata": {},
   "source": [
    "Now,\n",
    "$$\n",
    "\\begin{align}\n",
    "\\nabla_x L_c(x^*,\\mu^*)& = \\nabla f(x^*)+\\sum_{k=1}^K \\mu^*_k\\nabla h_k(x^*)+c\\nabla(\\sum_{k=1}^Kh_k(x^*)^2)\\\\\n",
    "&=\\nabla f(x^*)+\\sum_{k=1}^K \\mu^*_k\\nabla h_k(x^*)+2c\\sum_{k=1}^Kh_k(x^*)\\nabla h_k(x^*)\\\\\n",
    "&=0+2c\\sum_{k=1}^K0\\nabla h_k(x^*)=0.\n",
    "\\end{align}\n",
    "$$\n",
    "The first zero is given by the KKT conditions and the second zero is due to the solution being feasible."
   ]
  }
 ],
 "metadata": {
  "celltoolbar": "Slideshow",
  "kernelspec": {
   "display_name": "Python 2",
   "language": "python",
   "name": "python2"
  },
  "language_info": {
   "codemirror_mode": {
    "name": "ipython",
    "version": 2
   },
   "file_extension": ".py",
   "mimetype": "text/x-python",
   "name": "python",
   "nbconvert_exporter": "python",
   "pygments_lexer": "ipython2",
   "version": "2.7.5"
  }
 },
 "nbformat": 4,
 "nbformat_minor": 0
}
