{
 "cells": [
  {
   "cell_type": "markdown",
   "metadata": {
    "slideshow": {
     "slide_type": "slide"
    }
   },
   "source": [
    "# Lecture 12, Methods for multiobjective optimization "
   ]
  },
  {
   "cell_type": "markdown",
   "metadata": {},
   "source": [
    "Methods for multiobjective optimization are often charactermized by the involvement of the decision maker in the process."
   ]
  },
  {
   "cell_type": "markdown",
   "metadata": {},
   "source": [
    "The types of methods are\n",
    "* no preference methods, where the decision maker does not play a role,\n",
    "* a priori methods, where the decision maker gives his/her preference information at first and then the optimization method find the best match to that preference information,\n",
    "* a posteriori methods, where the optimization methods try to characterize all/find a good represenatation of the Pareto optimal solutions and the decision maker chooses the most preferred one of those,\n",
    "* interactive methods, where the optimization method and the decision maker alternate in iteratively search for the most preferred solution."
   ]
  },
  {
   "cell_type": "markdown",
   "metadata": {},
   "source": [
    "## Notation\n",
    "\n",
    "For short, let us denote the feasible set $\\{x\\in\\mathbb R^n: g_j(x) \\geq 0 \\text{ for all }j=1,\\ldots,J \\text{ and } h_k(x) = 0\\text{ for all }k=1,\\ldots,K\\}$ by $S$."
   ]
  },
  {
   "cell_type": "markdown",
   "metadata": {},
   "source": [
    "## Problem to be studied\n",
    "\n",
    "We study a hypothetical decision problem of buying a car, when you can choose to have a car with power between (denoted by $p$) 50 and 200 kW and average consumption (denoted by $c$) per 100 km between 3 and 10 l. However, in addition to the average consumption and power, you need to decide the volume of the cylinders (v), which may be between 1000 $cm^3$ and $4000cm^3$. Finally, the price of the car follows now a function \n",
    "$$\n",
    "\\left(\\sqrt{\\frac{p-50}{50}}+\\frac{p-50}{50}^2+\\frac{10-c}{10} +10^{-5}\\left(v-\\left(1000+3000\\frac{p-50}{150}\\right)\\right)^2\\right)10000+5000\n",
    "$$\n",
    "in euros. This problem can be formulated as a multiobjective optimization problem\n",
    "$$\n",
    "\\begin{align}\n",
    "\\min \\quad & \\{c,-p,P\\},\\\\\n",
    "\\text{s.t. }\\quad\n",
    "&50\\leq p\\leq 200\\\\\n",
    "&3\\leq c\\leq 10\\\\\n",
    "&1000\\leq v\\leq 4000,\\\\\n",
    "\\text{where }\\quad&P = \\left(\\sqrt{\\frac{p-50}{50}}+\\frac{p-50}{50}^2+\\frac{10-c}{10} + \\frac{p-50}{50}\\frac{10-c}{10}\\right)10000+5000\n",
    "\\end{align}\n",
    "$$"
   ]
  },
  {
   "cell_type": "code",
   "execution_count": 113,
   "metadata": {
    "collapsed": false
   },
   "outputs": [],
   "source": [
    "#Let us define a Python function which returns the value of this\n",
    "import math\n",
    "def car_problem(c,p,v):\n",
    "#    import pdb; pdb.set_trace()\n",
    "    return [#Objective function values\n",
    "        c,-p,\n",
    "        (math.sqrt((p-40.)/50.)+((p-50.)/50.)**2+\n",
    "        (10.-c)/10.+1e-5*(v-(1000.+3000.*(p-50.)/150.))**2)*10000.+5000.] "
   ]
  },
  {
   "cell_type": "code",
   "execution_count": 114,
   "metadata": {
    "collapsed": false
   },
   "outputs": [
    {
     "data": {
      "text/plain": [
       "[3, -50, 16472.135954999576]"
      ]
     },
     "execution_count": 114,
     "metadata": {},
     "output_type": "execute_result"
    }
   ],
   "source": [
    "car_problem(3,50,1000)"
   ]
  },
  {
   "cell_type": "markdown",
   "metadata": {
    "slideshow": {
     "slide_type": "slide"
    }
   },
   "source": [
    "## No preference methods\n",
    "\n",
    "* Usually only for situations, where the decision maker is not available or does not want to get involved\n",
    "* These just compute a single Pareto optimal solution, which is in somehow mathematically thought as the best compromise"
   ]
  },
  {
   "cell_type": "markdown",
   "metadata": {
    "slideshow": {
     "slide_type": "slide"
    }
   },
   "source": [
    "### Method of Global criterion\n",
    "\n",
    "Involved minimization of the p-norm of $f(x)-z^{ideal}$, that is we solve the problem\n",
    "$$\n",
    "\\min_{x\\in S} \\|f(x) - z^{ideal}\\|_p.\n",
    "$$\n",
    "\n",
    "![alt text](images/mgc.svg \"Method of global criterion\")\n"
   ]
  },
  {
   "cell_type": "markdown",
   "metadata": {
    "slideshow": {
     "slide_type": "subslide"
    }
   },
   "source": [
    "### Applying to our problem studied\n"
   ]
  },
  {
   "cell_type": "code",
   "execution_count": 115,
   "metadata": {
    "collapsed": false
   },
   "outputs": [],
   "source": [
    "#Calculating the ideal\n",
    "from scipy.optimize import minimize\n",
    "import ad\n",
    "def calc_ideal(f):\n",
    "    ideal = [0]*3 #Because three objectives\n",
    "    bounds = ((3,10),(50,200),(1000,4000)) #Bounds of the problem\n",
    "    for i in range(3):\n",
    "        res=minimize(\n",
    "            #Minimize each objective at the time\n",
    "            lambda x: f(x[0],x[1],x[2])[i], [3,50,1000], method='SLSQP'\n",
    "            #Jacobian using automatic differentiation\n",
    "            ,jac=ad.gh(lambda x: f(x[0],x[1],x[2])[i])[0]\n",
    "            #bounds given above\n",
    "            ,bounds = bounds,options = {'disp':True})\n",
    "        ideal[i]=res.fun\n",
    "    return ideal"
   ]
  },
  {
   "cell_type": "code",
   "execution_count": 116,
   "metadata": {
    "collapsed": false
   },
   "outputs": [
    {
     "name": "stdout",
     "output_type": "stream",
     "text": [
      "Optimization terminated successfully.    (Exit mode 0)\n",
      "            Current function value: 3.0\n",
      "            Iterations: 1\n",
      "            Function evaluations: 1\n",
      "            Gradient evaluations: 1\n",
      "Optimization terminated successfully.    (Exit mode 0)\n",
      "            Current function value: -200.0\n",
      "            Iterations: 5\n",
      "            Function evaluations: 5\n",
      "            Gradient evaluations: 5\n",
      "Optimization terminated successfully.    (Exit mode 0)\n",
      "            Current function value: 9472.13571906\n",
      "            Iterations: 3\n",
      "            Function evaluations: 3\n",
      "            Gradient evaluations: 2\n",
      "[3.0, -200.0, 9472.1357190646031]\n"
     ]
    }
   ],
   "source": [
    "ideal = calc_ideal(car_problem)\n",
    "print ideal"
   ]
  },
  {
   "cell_type": "code",
   "execution_count": 117,
   "metadata": {
    "collapsed": false
   },
   "outputs": [],
   "source": [
    "import numpy as np\n",
    "def global_criterion_method(f,p):\n",
    "    ideal = calc_ideal(f)\n",
    "    bounds = ((3,10),(50,200),(1000,4000)) #Bounds of the problem\n",
    "    obj = lambda x: np.linalg.norm(np.array(f(x[0],x[1],x[2]))-np.array(ideal),ord=p)\n",
    "    res=minimize(\n",
    "            #Minimize p distance from the ideal\n",
    "            obj, [3,50,1000], method='SLSQP'\n",
    "            #Jacobian using automatic differentiation\n",
    "            ,jac=ad.gh(obj)[0]\n",
    "            #bounds given above\n",
    "            ,bounds = bounds,options = {'disp':True})\n",
    "    return ideal"
   ]
  },
  {
   "cell_type": "code",
   "execution_count": 118,
   "metadata": {
    "collapsed": false
   },
   "outputs": [
    {
     "name": "stdout",
     "output_type": "stream",
     "text": [
      "Optimization terminated successfully.    (Exit mode 0)\n",
      "            Current function value: 3.0\n",
      "            Iterations: 1\n",
      "            Function evaluations: 1\n",
      "            Gradient evaluations: 1\n",
      "Optimization terminated successfully.    (Exit mode 0)\n",
      "            Current function value: -200.0\n",
      "            Iterations: 5\n",
      "            Function evaluations: 5\n",
      "            Gradient evaluations: 5\n",
      "Optimization terminated successfully.    (Exit mode 0)\n",
      "            Current function value: 9472.13571906\n",
      "            Iterations: 3\n",
      "            Function evaluations: 3\n",
      "            Gradient evaluations: 2\n",
      "Optimization terminated successfully.    (Exit mode 0)\n",
      "            Current function value: 150.218816494\n",
      "            Iterations: 2\n",
      "            Function evaluations: 13\n",
      "            Gradient evaluations: 2\n",
      "[3.0, -200.0, 9472.1357190646031]\n"
     ]
    }
   ],
   "source": [
    "ideal = global_criterion_method(car_problem,2)\n",
    "print ideal"
   ]
  },
  {
   "cell_type": "markdown",
   "metadata": {
    "slideshow": {
     "slide_type": "slide"
    }
   },
   "source": [
    "## A posteriori methods\n",
    "\n",
    "* A posteriori methods generate a representation of the Pareto optimal solutions, or the complete set of Pareto optimal solutions\n",
    "* Benefits\n",
    "  * The solutions can be visualized for problems with 2 or 3 objectives so the decision making is possible\n",
    "  * When succesful, they give an understanding of the Pareto front\n",
    "* Drawbacks\n",
    "  * Approximating the Pareto optimal set often time-consuming\n",
    "  * Decision making from a large representation may be very difficut"
   ]
  },
  {
   "cell_type": "markdown",
   "metadata": {
    "slideshow": {
     "slide_type": "slide"
    }
   },
   "source": [
    "\n",
    "### The weighting method\n",
    "\n",
    "Based on solving optimization problem\n",
    "$$\n",
    "\\min_{x\\in S} \\sum_{i=1}^kw_if_i(x)\n",
    "$$\n",
    "for different weights $w_i\\geq0$, $i=1,\\ldots,k$. The idea is to generate weights evenly and then have evenly spread solutions."
   ]
  },
  {
   "cell_type": "code",
   "execution_count": 119,
   "metadata": {
    "collapsed": true
   },
   "outputs": [],
   "source": [
    "import numpy as np\n",
    "def weighting_method(f,w):\n",
    "    points = []\n",
    "    bounds = ((3,10),(50,200),(1000,4000)) #Bounds of the problem\n",
    "    for wi in w:\n",
    "        res=minimize(\n",
    "            #weighted sum\n",
    "            lambda x: sum(np.array(wi)*np.array(f(x[0],x[1],x[2]))), \n",
    "            [3,50,1000], method='SLSQP'\n",
    "            #Jacobian using automatic differentiation\n",
    "            ,jac=ad.gh(lambda x: sum(np.array(wi)*np.array(f(x[0],x[1],x[2]))))[0]\n",
    "            #bounds given above\n",
    "            ,bounds = bounds,options = {'disp':False})\n",
    "        points.append((res.x,f(res.x[0],res.x[1],res.x[2])))\n",
    "    return points"
   ]
  },
  {
   "cell_type": "code",
   "execution_count": 120,
   "metadata": {
    "collapsed": false
   },
   "outputs": [],
   "source": [
    "w = np.random.random((100,3))\n",
    "repr = weighting_method(car_problem,w)\n",
    "#print repr"
   ]
  },
  {
   "cell_type": "code",
   "execution_count": 121,
   "metadata": {
    "collapsed": false
   },
   "outputs": [],
   "source": [
    "import matplotlib.pyplot as plt\n",
    "from mpl_toolkits.mplot3d import Axes3D\n",
    "fig = plt.figure()\n",
    "ax = fig.add_subplot(111, projection='3d')\n",
    "ax.scatter([x[1][0] for x in repr],[x[1][1] for x in repr],[x[1][2] for x in repr])\n",
    "plt.show()"
   ]
  },
  {
   "cell_type": "markdown",
   "metadata": {},
   "source": [
    "### Epsilon-constraint method\n",
    "\n"
   ]
  },
  {
   "cell_type": "code",
   "execution_count": 24,
   "metadata": {
    "collapsed": true
   },
   "outputs": [],
   "source": [
    "import numpy as np\n",
    "from scipy.optimize import minimize\n",
    "import ad\n",
    "def e_constraint_method(f,eps):\n",
    "    points = []\n",
    "    for epsi in eps:\n",
    "        bounds = ((3,epsi[0]),(-epsi[1],200),(1000,4000)) #Added bounds for two first objectives\n",
    "        res=minimize(\n",
    "            #weighted sum\n",
    "            lambda x: f(x[0],x[1],x[2])[2], \n",
    "            [3,50,1000], method='SLSQP'\n",
    "            #Jacobian using automatic differentiation\n",
    "            ,jac=ad.gh(lambda x: f(x[0],x[1],x[2])[2])[0]\n",
    "            #bounds given above\n",
    "            ,bounds = bounds,options = {'disp':False})\n",
    "        if res.success:\n",
    "            points.append((res.x,f(res.x[0],res.x[1],res.x[2])))\n",
    "    return points"
   ]
  },
  {
   "cell_type": "code",
   "execution_count": 25,
   "metadata": {
    "collapsed": false
   },
   "outputs": [
    {
     "name": "stdout",
     "output_type": "stream",
     "text": [
      "[[9.3509371352646937, -83.544002286039557], [6.0768883797431181, -60.22922156045307], [2.6734555804184987, -159.6296919157285], [6.9133752631954852, -95.428842882044876], [6.1878502828003059, -146.86455831610695], [2.5970308859462667, -88.195703431900768], [0.50126476601471182, -46.979216004180337], [4.5282090945179583, -107.22767204367733], [6.7312059458405349, -112.6995506948855], [0.97522880712662352, -37.929457114215758], [2.5296705963282697, -61.442231011650541], [7.2441443180638654, -137.58717807651152], [0.89230937381892472, -47.392246342593822], [7.4513614959215477, -36.911195736784272], [5.2709445693020793, -34.61158173579377], [9.5458788613464503, -7.2340543846374228], [8.8779441273572477, -29.172375504220049], [3.5260729159651127, -38.345802607639932], [7.3822040336176276, -82.468802748721217], [9.9194487268803382, -34.654190358833567], [8.6897047645229399, -151.51174743538579], [4.2223027283401438, -142.17885049735887], [3.4953430633373159, -125.59341860064231], [9.7736899155455994, -102.73192520543274], [5.3707472276923873, -148.93912556705362], [2.1799745569649511, -144.06592231616938], [2.0756862087408789, -159.25094612231754], [9.9089399340873161, -40.622866571116468], [5.7469192196026668, -98.5244742496794], [6.3074166284181157, -82.349768356251317], [6.8596582375591293, -169.79062507135453], [9.0808630424826795, -54.438134889433101], [8.4109793460586761, -58.867377026848743], [1.6771912373288556, -105.1434623277683], [2.7936179132528904, -20.34145531932614], [6.9779197617077884, -134.48144681922233], [4.9695608168631562, -118.51511698134982], [7.4478997201620531, -198.40800968593902], [1.9173260949562476, -11.619955819146345], [3.135819855288057, -15.66777957366754], [4.8961805230109956, -3.177178183451268], [2.1751879199618882, -116.53255299359522], [7.7926438422857656, -36.922126541305886], [0.035255608088254897, -53.827028688136977], [6.7332795070864009, -87.375655726765729], [8.4226846143613869, -125.80327490734], [1.4460681121650032, -90.935867579850395], [6.1720196178776776, -173.01545603551727], [2.9289875400108354, -94.542903365965543], [8.8198728808619773, -120.06658826150831], [8.8286608576574714, -167.69964319062905], [6.5824873089133762, -124.71688010799436], [7.4386007091146435, -156.3626211149988], [0.43337822310751228, -89.541928997124188], [8.9474948088381332, -113.79001515200405], [8.9601731671204057, -189.15768577973839], [6.5293664753631884, -71.465314188114547], [7.6162542006111824, -48.191753923525084], [0.32168611619278642, -175.62194435374468], [5.6700211623506895, -27.824712951379581], [3.8791585158900235, -66.264373619236181], [7.5193188671784768, -53.465723983475513], [7.2602253345722989, -176.65845494005077], [2.7815619254146071, -196.80337900620898], [0.04330274131010392, -47.719656663318389], [6.5417944422484089, -56.903260585485341], [2.4489576589706594, -152.67134013671034], [1.5591146523735488, -94.878418525656528], [3.4236419956581621, -95.872373435296481], [9.0521586206594016, -94.049560811433366], [7.0287716323798222, -140.69068232717953], [3.4796831821283245, -19.575642059628585], [2.8210206072798449, -102.75184990457159], [2.7426446610382769, -126.03436004309955], [0.16526249500664725, -151.94722336495613], [5.2848465619859342, -63.555532926548743], [2.0319239540133527, -122.04479011359628], [4.528504195337149, -99.808887204601888], [6.9479584237994541, -195.27132265833797], [4.6579734545877658, -44.655353312879839], [7.1658801031834383, -80.18978126331055], [9.3922621291427113, -80.062237862793737], [9.7364324158039128, -11.045344844273774], [1.6495037943542279, -75.271875895445234], [7.6000385597729174, -190.28901489940878], [7.4642433185219765, -144.74762434441618], [6.8551037931189107, -34.076728950927304], [0.84309696394948674, -134.45228874721221], [3.0371749649715598, -35.892799280152275], [6.7483236234808057, -54.242119785596458], [5.0229292603788878, -190.1338366633972], [2.5295814267746608, -57.4234506855082], [4.4839262972834648, -94.639393145020946], [7.7006833363729674, -165.39014282057173], [1.5403104193837158, -151.16514386755964], [4.041193760741411, -91.199502749118835], [5.0442964019392438, -54.974547660754695], [8.7283150685059212, -124.64095296136024], [3.5744977373332687, -77.794078120820487], [7.4572943100478453, -153.23675402228253]]\n"
     ]
    }
   ],
   "source": [
    "eps = np.random.random((100,2))\n",
    "eps = [[epsi[0]*10,epsi[1]*(-200)] for epsi in eps]\n",
    "print eps\n",
    "repr = e_constraint_method(car_problem,eps)"
   ]
  },
  {
   "cell_type": "code",
   "execution_count": 26,
   "metadata": {
    "collapsed": true
   },
   "outputs": [],
   "source": [
    "import matplotlib.pyplot as plt\n",
    "from mpl_toolkits.mplot3d import Axes3D\n",
    "fig = plt.figure()\n",
    "ax = fig.add_subplot(111, projection='3d')\n",
    "ax.scatter([x[1][0] for x in repr],[x[1][1] for x in repr],[x[1][2] for x in repr])\n",
    "plt.show()"
   ]
  }
 ],
 "metadata": {
  "celltoolbar": "Slideshow",
  "kernelspec": {
   "display_name": "Python 2",
   "language": "python",
   "name": "python2"
  },
  "language_info": {
   "codemirror_mode": {
    "name": "ipython",
    "version": 2
   },
   "file_extension": ".py",
   "mimetype": "text/x-python",
   "name": "python",
   "nbconvert_exporter": "python",
   "pygments_lexer": "ipython2",
   "version": "2.7.5"
  }
 },
 "nbformat": 4,
 "nbformat_minor": 0
}
