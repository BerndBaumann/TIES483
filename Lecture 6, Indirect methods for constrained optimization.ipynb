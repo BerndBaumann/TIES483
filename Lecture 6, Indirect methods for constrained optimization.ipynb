{
 "cells": [
  {
   "cell_type": "markdown",
   "metadata": {},
   "source": [
    "# Constrained optimization"
   ]
  },
  {
   "cell_type": "markdown",
   "metadata": {},
   "source": [
    "Now we will move to studying constrained optimizaton problems i.e., the full problem\n",
    "$$\n",
    "\\begin{align} \\\n",
    "\\min \\quad &f(x)\\\\\n",
    "\\text{s.t.} \\quad & g_j(x) \\geq 0\\text{ for all }j=1,\\ldots,J\\\\\n",
    "& h_k(x) = 0\\text{ for all }k=1,\\ldots,K\\\\\n",
    "&a_i\\leq x_i\\leq b_i\\text{ for all } i=1,\\ldots,n\\\\\n",
    "&x\\in \\mathbb R^n,\n",
    "\\end{align}\n",
    "$$\n",
    "where for all $i=1,\\ldots,n$ it holds that $a_i,b_i\\in \\mathbb R$ or they may also be $-\\infty$ of $\\infty$."
   ]
  },
  {
   "cell_type": "markdown",
   "metadata": {},
   "source": [
    "For example, we can have an optimization problem\n",
    "$$\n",
    "\\begin{align} \\\n",
    "\\min \\quad &x_1^2+x_2^2\\\\\n",
    "\\text{s.t.} \\quad & x_1+x_2-1\\geq 0\\\\\n",
    "&-1\\leq x_1\\leq 1, x_2\\leq 3.\\\\\n",
    "\\end{align}\n",
    "$$"
   ]
  },
  {
   "cell_type": "markdown",
   "metadata": {},
   "source": [
    "In order to optimize that problem, we can define the following python function:"
   ]
  },
  {
   "cell_type": "code",
   "execution_count": 13,
   "metadata": {
    "collapsed": true
   },
   "outputs": [],
   "source": [
    "import numpy as np\n",
    "def f_constrained(x):\n",
    "    return np.linalg.norm(x),[x[0]+x[1]-1],[]"
   ]
  },
  {
   "cell_type": "markdown",
   "metadata": {},
   "source": [
    "Now, we can call the function:"
   ]
  },
  {
   "cell_type": "code",
   "execution_count": 24,
   "metadata": {
    "collapsed": false
   },
   "outputs": [
    {
     "name": "stdout",
     "output_type": "stream",
     "text": [
      "Value of f is 0.0\n",
      "The values of inequality constraints are:\n",
      "-1, \n"
     ]
    }
   ],
   "source": [
    "(f_val,ieq,eq) = f_constrained([0,0])\n",
    "print \"Value of f is \"+str(f_val)\n",
    "if len(ieq)>0:\n",
    "    print \"The values of inequality constraints are:\"\n",
    "    for ieq_j in ieq:\n",
    "        print str(ieq_j)+\", \"\n",
    "if len(eq)>0:\n",
    "    print \"The values of the equality constraints are:\"\n",
    "    for eq_k in eq:\n",
    "        print str(eq_k)+\", \""
   ]
  },
  {
   "cell_type": "markdown",
   "metadata": {},
   "source": [
    "Is this solution feasible?"
   ]
  },
  {
   "cell_type": "code",
   "execution_count": 25,
   "metadata": {
    "collapsed": false
   },
   "outputs": [
    {
     "name": "stdout",
     "output_type": "stream",
     "text": [
      "Solution is infeasible\n"
     ]
    }
   ],
   "source": [
    "if all([ieq_j>=0 for ieq_j in ieq]) and all([eq_k==0 for eq_k in eq]):\n",
    "    print \"Solution is feasible\"\n",
    "else:\n",
    "    print \"Solution is infeasible\""
   ]
  },
  {
   "cell_type": "markdown",
   "metadata": {},
   "source": [
    "# Indirect and direct methods for constrained optimization"
   ]
  },
  {
   "cell_type": "markdown",
   "metadata": {},
   "source": [
    "There are two categories of methods for constrained optimization: Indirect and direct methods. The main difference is that\n",
    "1. Indirect methods convert the constrained optimization problem into a single or a sequence of unconstrained optimization problems, that are then solved. Often, the intermediate solutions do not need to be feasbiel, the sequence of solutions converges to a solution that is optimal (and, thus, feasible).\n",
    "2. Direct methods deal with the constrained optimization problem directly. In this case, the intermediate solutions are feasible."
   ]
  },
  {
   "cell_type": "markdown",
   "metadata": {},
   "source": [
    "# Indirect methods"
   ]
  },
  {
   "cell_type": "markdown",
   "metadata": {},
   "source": [
    "## Penalty function methods"
   ]
  },
  {
   "cell_type": "markdown",
   "metadata": {},
   "source": [
    "**IDEA:** Include constraints into the objective function with the help of penalty functions that penalize constraint violations."
   ]
  },
  {
   "cell_type": "markdown",
   "metadata": {},
   "source": [
    "Let, $\\alpha(x):\\mathbb R^n\\to\\mathbb R$ be a function so that \n",
    "* $\\alpha(x)=$ for all feasible $x$\n",
    "* $\\alpha(x)>0$ for all infeasible $x$.\n",
    "\n",
    "Define optimization problems\n",
    "$$\n",
    "\\begin{align} \\\n",
    "\\min \\qquad &f(x)+r\\alpha(x)\\\\\n",
    "\\text{s.t.} \\qquad &x\\in \\mathbb R^n\n",
    "\\end{align}\n",
    "$$\n",
    "for $r>0$ and $x_r$ be the optimal solutions of these problems.\n",
    "\n",
    "In this case, the optimal solutions $x_r$ converge to the optimal solution of the constrained problem, when $r\\to\\infty$, if such solution exists."
   ]
  },
  {
   "cell_type": "markdown",
   "metadata": {},
   "source": [
    "For example, good ideas for penalty functions are\n",
    "* $h_k(x)^2$ for equality constraints,\n",
    "* $\\left(\\max\\{0,g_j(x)\\}\\right)^2$ for inequality constraints."
   ]
  },
  {
   "cell_type": "code",
   "execution_count": 73,
   "metadata": {
    "collapsed": true
   },
   "outputs": [],
   "source": [
    "def alpha(x,f):\n",
    "    (_,ieq,eq) = f(x)\n",
    "    return sum([min([0,ieq_j])**2 for ieq_j in ieq])+sum([eq_k**2 for eq_k in eq])"
   ]
  },
  {
   "cell_type": "code",
   "execution_count": 74,
   "metadata": {
    "collapsed": false
   },
   "outputs": [
    {
     "data": {
      "text/plain": [
       "0"
      ]
     },
     "execution_count": 74,
     "metadata": {},
     "output_type": "execute_result"
    }
   ],
   "source": [
    "alpha([0,2],f_constrained)"
   ]
  },
  {
   "cell_type": "code",
   "execution_count": 75,
   "metadata": {
    "collapsed": true
   },
   "outputs": [],
   "source": [
    "def penalized_function(x,f,r):\n",
    "    return f(x)[0] + r*alpha(x,f)"
   ]
  },
  {
   "cell_type": "code",
   "execution_count": 77,
   "metadata": {
    "collapsed": false
   },
   "outputs": [
    {
     "data": {
      "text/plain": [
       "100.0"
      ]
     },
     "execution_count": 77,
     "metadata": {},
     "output_type": "execute_result"
    }
   ],
   "source": [
    "penalized_function([0,0],f_constrained,100)"
   ]
  },
  {
   "cell_type": "code",
   "execution_count": 172,
   "metadata": {
    "collapsed": false
   },
   "outputs": [
    {
     "name": "stdout",
     "output_type": "stream",
     "text": [
      "Optimization terminated successfully.\n",
      "         Current function value: 0.705857\n",
      "         Iterations: 49\n",
      "         Function evaluations: 80\n",
      "[ 0.49823437  0.49823438]\n"
     ]
    }
   ],
   "source": [
    "from scipy.optimize import minimize\n",
    "res = minimize(lambda x:penalized_function(x,f_constrained,100),[0,0],method='Nelder-Mead', \n",
    "         options={'disp': True})\n",
    "print res.x"
   ]
  },
  {
   "cell_type": "code",
   "execution_count": 173,
   "metadata": {
    "collapsed": false
   },
   "outputs": [
    {
     "name": "stdout",
     "output_type": "stream",
     "text": [
      "Value of f is 0.704609810365\n",
      "The values of inequality constraints are:\n",
      "-0.00353125, \n",
      "Solution is infeasible\n"
     ]
    }
   ],
   "source": [
    "(f_val,ieq,eq) = f_constrained(res.x)\n",
    "print \"Value of f is \"+str(f_val)\n",
    "if len(ieq)>0:\n",
    "    print \"The values of inequality constraints are:\"\n",
    "    for ieq_j in ieq:\n",
    "        print str(ieq_j)+\", \"\n",
    "if len(eq)>0:\n",
    "    print \"The values of the equality constraints are:\"\n",
    "    for eq_k in eq:\n",
    "        print str(eq_k)+\", \"\n",
    "\n",
    "if all([ieq_j>=0 for ieq_j in ieq]) and all([eq_k==0 for eq_k in eq]):\n",
    "    print \"Solution is feasible\"\n",
    "else:\n",
    "    print \"Solution is infeasible\""
   ]
  },
  {
   "cell_type": "markdown",
   "metadata": {},
   "source": [
    "# Barrier function methods"
   ]
  },
  {
   "cell_type": "markdown",
   "metadata": {},
   "source": [
    "**IDEA:** Prevent leaving the feasible region so that the value of the objective is $\\infty$ outside the feasible set.\n",
    "\n",
    "This method is only applicable to problems with inequality constraints and for which the set \n",
    "$$\\{x\\in \\mathbb R^n: g_j(x)>0\\text{ for all }j=1,\\ldots,J\\}$$\n",
    "is non-empty."
   ]
  },
  {
   "cell_type": "markdown",
   "metadata": {},
   "source": [
    "Let $\\beta:\\{x\\in \\mathbb R^n: g_j(x)>0\\text{ for all }j=1,\\ldots,J\\}\\to \\mathbb R$ be a function so that $\\beta(x)\\to \\infty$, when $x\\to\\partial\\{x\\in \\mathbb R^n: g_j(x)>0\\text{ for all }j=1,\\ldots,J\\}$, where $\\partial A$ is the boundary of the set $A$. Now, define optimization problem \n",
    "$$\n",
    "\\begin{align}\n",
    "\\min \\qquad & f(x) + r\\beta(x)\\\\\n",
    "\\text{s.t. } \\qquad & x\\in \\{x\\in \\mathbb R^n: g_j(x)>0\\text{ for all }j=1,\\ldots,J\\}.\n",
    "\\end{align}\n",
    "$$\n",
    "and let $x_r$ be the optimal solution of this problem (which we assume to exist for all $r>0$).\n",
    "\n",
    "In this case, $x_r$ converges to the optimal solution of the problem (if it exists), when $r\\to 0^+$ (i.e., $r$ converges to zero from the right)."
   ]
  },
  {
   "cell_type": "markdown",
   "metadata": {},
   "source": [
    "A good idea for barrier algorithm is $\\frac1{g_j(x)}$."
   ]
  },
  {
   "cell_type": "code",
   "execution_count": 169,
   "metadata": {
    "collapsed": false
   },
   "outputs": [],
   "source": [
    "def beta(x,f):\n",
    "    _,ieq,_ = f(x)\n",
    "    try:\n",
    "        value=sum([1/max([0,ieq_j]) for ieq_j in ieq])\n",
    "    except ZeroDivisionError:\n",
    "        value = float(\"inf\")\n",
    "    return value"
   ]
  },
  {
   "cell_type": "code",
   "execution_count": 170,
   "metadata": {
    "collapsed": true
   },
   "outputs": [],
   "source": [
    "def function_with_barrier(x,f,r):\n",
    "    return f(x)[0]+r*beta(x,f)"
   ]
  },
  {
   "cell_type": "code",
   "execution_count": 171,
   "metadata": {
    "collapsed": false
   },
   "outputs": [
    {
     "name": "stdout",
     "output_type": "stream",
     "text": [
      "Optimization terminated successfully.\n",
      "         Current function value: 0.760290\n",
      "         Iterations: 38\n",
      "         Function evaluations: 67\n",
      "[ 0.51881766  0.51877295]\n"
     ]
    }
   ],
   "source": [
    "from scipy.optimize import minimize\n",
    "res = minimize(lambda x:function_with_barrier(x,f_constrained,0.001),[1,1],method='Nelder-Mead', \n",
    "         options={'disp': True})\n",
    "print res.x"
   ]
  },
  {
   "cell_type": "code",
   "execution_count": 162,
   "metadata": {
    "collapsed": false
   },
   "outputs": [
    {
     "name": "stdout",
     "output_type": "stream",
     "text": [
      "Value of f is 0.733687357744\n",
      "The values of inequality constraints are:\n",
      "0.0375906108995, \n",
      "Solution is feasible\n"
     ]
    }
   ],
   "source": [
    "(f_val,ieq,eq) = f_constrained(res.x)\n",
    "print \"Value of f is \"+str(f_val)\n",
    "if len(ieq)>0:\n",
    "    print \"The values of inequality constraints are:\"\n",
    "    for ieq_j in ieq:\n",
    "        print str(ieq_j)+\", \"\n",
    "if len(eq)>0:\n",
    "    print \"The values of the equality constraints are:\"\n",
    "    for eq_k in eq:\n",
    "        print str(eq_k)+\", \"\n",
    "if all([ieq_j>=0 for ieq_j in ieq]) and all([eq_k==0 for eq_k in eq]):\n",
    "    print \"Solution is feasible\"\n",
    "else:\n",
    "    print \"Solution is infeasible\""
   ]
  }
 ],
 "metadata": {
  "kernelspec": {
   "display_name": "Python 2",
   "language": "python",
   "name": "python2"
  },
  "language_info": {
   "codemirror_mode": {
    "name": "ipython",
    "version": 2
   },
   "file_extension": ".py",
   "mimetype": "text/x-python",
   "name": "python",
   "nbconvert_exporter": "python",
   "pygments_lexer": "ipython2",
   "version": "2.7.5"
  }
 },
 "nbformat": 4,
 "nbformat_minor": 0
}
