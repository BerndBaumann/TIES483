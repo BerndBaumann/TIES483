{
 "cells": [
  {
   "cell_type": "code",
   "execution_count": 1,
   "metadata": {
    "collapsed": false,
    "slideshow": {
     "slide_type": "notes"
    }
   },
   "outputs": [
    {
     "data": {
      "text/html": [
       "<style>.container { width:95% !important; }</style>"
      ],
      "text/plain": [
       "<IPython.core.display.HTML object>"
      ]
     },
     "execution_count": 1,
     "metadata": {},
     "output_type": "execute_result"
    }
   ],
   "source": [
    "from IPython.core.display import HTML\n",
    "HTML(\"<style>.container { width:95% !important; }</style>\")"
   ]
  },
  {
   "cell_type": "markdown",
   "metadata": {
    "slideshow": {
     "slide_type": "slide"
    }
   },
   "source": [
    "## Optimization problem to be studied"
   ]
  },
  {
   "cell_type": "markdown",
   "metadata": {},
   "source": [
    "We will start studying functions of multiple variables by studying unconstrained optimization problems\n",
    "$$\n",
    "\\begin{align}\n",
    "\\min \\quad &f(x)\\\\\n",
    "\\text{s.t.}\\quad &x\\in \\mathbb R^n\n",
    "\\end{align}  \n",
    "$$"
   ]
  },
  {
   "cell_type": "markdown",
   "metadata": {
    "slideshow": {
     "slide_type": "-"
    }
   },
   "source": [
    "As an example, we study the optimization problem\n",
    "$$\n",
    "\\begin{align}\n",
    "\\min \\quad & (x_1-10)^2+(x_2+5)^2+x_1^2\\\\\n",
    "\\text{s.t.}\\quad &x_1,x_2\\in\\mathbb R\n",
    "\\end{align}  \n",
    "$$\n",
    "This problem is unconstrained, because there are no constraints."
   ]
  },
  {
   "cell_type": "markdown",
   "metadata": {
    "slideshow": {
     "slide_type": "subslide"
    }
   },
   "source": [
    "Now we need to define a function in Python that evaluates that function. That is, we define a two-variable function \n",
    "$$f:(x_1,x_2)\\to (x_1-10)^2+(x_2+5)^2+x_1^2$$"
   ]
  },
  {
   "cell_type": "code",
   "execution_count": 2,
   "metadata": {
    "collapsed": true
   },
   "outputs": [],
   "source": [
    "def f_simple(x):\n",
    "    return (x[0] - 10.0)**2 + (x[1] + 5.0)**2+x[0]**2"
   ]
  },
  {
   "cell_type": "markdown",
   "metadata": {},
   "source": [
    "Now we can call that function"
   ]
  },
  {
   "cell_type": "code",
   "execution_count": 75,
   "metadata": {
    "collapsed": false
   },
   "outputs": [
    {
     "name": "stdout",
     "output_type": "stream",
     "text": [
      "At point (3,-8) the value of the function is  67.0\n"
     ]
    }
   ],
   "source": [
    "print \"At point (3,-8) the value of the function is \",f_simple([3,-8])"
   ]
  },
  {
   "cell_type": "markdown",
   "metadata": {
    "slideshow": {
     "slide_type": "subslide"
    }
   },
   "source": [
    "We can also plot that function"
   ]
  },
  {
   "cell_type": "code",
   "execution_count": 5,
   "metadata": {
    "collapsed": false
   },
   "outputs": [],
   "source": [
    "import numpy as np\n",
    "from pylab import meshgrid\n",
    "import matplotlib.pyplot as plt\n",
    "from mpl_toolkits.mplot3d import Axes3D\n",
    "\n",
    "def plot_2d_function(lb1,lb2,ub1,ub2,f):\n",
    "    x = np.arange(lb1,ub1,0.1)\n",
    "    y = np.arange(lb2,ub2,0.1)\n",
    "    X,Y = meshgrid(x, y) # grid of point\n",
    "    Z = [f([x,y]) for (x,y) in zip (X,Y)] # evaluation of the function on the grid\n",
    "    fig = plt.figure()\n",
    "    ax = fig.gca(projection='3d')\n",
    "    surf = ax.plot_surface(X, Y, Z)\n",
    "    return plt"
   ]
  },
  {
   "cell_type": "code",
   "execution_count": 6,
   "metadata": {
    "collapsed": false
   },
   "outputs": [
    {
     "name": "stderr",
     "output_type": "stream",
     "text": [
      "/usr/lib64/python2.7/site-packages/matplotlib/collections.py:590: FutureWarning: elementwise comparison failed; returning scalar instead, but in the future will perform elementwise comparison\n",
      "  if self._edgecolors == str('face'):\n"
     ]
    }
   ],
   "source": [
    "plot_2d_function(3,-7,7,-3,f_simple).show()"
   ]
  },
  {
   "cell_type": "markdown",
   "metadata": {
    "slideshow": {
     "slide_type": "slide"
    }
   },
   "source": [
    "# Direct search methods\n",
    "\n",
    "Direct search methods (also called pattern search methods) just rely on the function values to find a (local) optimum. Direct search methods consist of a set of  \n",
    "1. exploratory moves that acquire information about the function $f$ in th eneighbourhood of the current solution, and\n",
    "2. pattern moves that attempt to speed up the search using the information acquired in the exploratory moves."
   ]
  },
  {
   "cell_type": "markdown",
   "metadata": {},
   "source": [
    "## Hooke&Jeeves\n",
    "\n",
    "**input:** a minimum step length $L>0$, initial step length $\\epsilon_0$, constant $0<\\delta<1$ for reducing the step length, exploratory step multiplier $\\gamma>1$, and starting solution $x_0$  \n",
    "**output:** an approximation of a local optimum (no guarantees of quality in general cases)  \n",
    "```\n",
    "set epsilon as the initial step length epsilon0\n",
    "set x as the starting solution\n",
    "while epsilon is greater than L:\n",
    "    for each coordinate direction i:\n",
    "        find the smallest of function values by incrementing and reducing the variable value in that coordinate by epsilon, let this value be xi*\n",
    "    if x is the same as (x1*,...,xn*):\n",
    "        reduce epsilon to delta*epsilon\n",
    "    else:\n",
    "        if the value of f at (x1*,...,xn*) is smaller than at x+gamma*((x1*,...,xn*)-x):\n",
    "            set x as (x1*,...xn*)\n",
    "        else:\n",
    "            set x as x+gamma*((x1*,...,xn*)-x)\n",
    "return x\n",
    "        \n",
    "```\n",
    "Thus, the exploratory step of Hooke&Jeeves is performed by incrementing and reducing the variable to each coordinate direction and the pattern move is just a multiplication of the exploratory move.\n",
    "\n",
    "![alt text](images/hooke&Jeeves.svg \"Hooke&Jeeves\")\n"
   ]
  },
  {
   "cell_type": "code",
   "execution_count": 7,
   "metadata": {
    "collapsed": false,
    "slideshow": {
     "slide_type": "subslide"
    }
   },
   "outputs": [],
   "source": [
    "import copy #Copying vectors\n",
    "import numpy as np #Import vector calculus and much more!\n",
    "def hookejeeves(L,epsilon0,delta,gamma,x0,f):\n",
    "    #Set up the initial values\n",
    "    epsilon = epsilon0\n",
    "    x = np.array(x0)\n",
    "    #Loop while step length greater than L:\n",
    "    while epsilon>L:\n",
    "        #our exploratory move is initially [0,..,0]\n",
    "        xtest = np.zeros(len(x))\n",
    "        for coordinate in range(len(x)):\n",
    "            #First points to be explored are the all x, to be changed\n",
    "            exp_points = [copy.copy(x) for _ in range(3)] #points to be explored\n",
    "            #Change exp_points[0] and exp_points[1] to reflect\n",
    "            #moving along the coordinate\n",
    "            exp_points[0][coordinate]-=epsilon\n",
    "            exp_points[1][coordinate]+=epsilon\n",
    "            #Assign the function values given by exp_points to a list\n",
    "            f_exp_points = [f(exp_point) for exp_point in exp_points]\n",
    "            #pick the smallest one of them\n",
    "            min_value = min(f_exp_points)\n",
    "            #The exploratory move to the coordinate direction is given by the\n",
    "            #move giving the smallest value of f\n",
    "            xtest[coordinate] = exp_points[f_exp_points.index(min_value)][coordinate] #The coordinate value is the one where the minimum is attained\n",
    "        #If no move at all, then reduce the exploratory move step size\n",
    "        if all(xtest==x):\n",
    "            epsilon = delta*epsilon\n",
    "        else:\n",
    "            #if exploratory move is better than pattern move\n",
    "            if f(xtest)<f(x+gamma*(xtest-x)):\n",
    "                #...set x as the exploratory move\n",
    "                x = xtest\n",
    "            else:\n",
    "                #Otherwise we take the pattern move\n",
    "                x = x+gamma*(xtest-x)\n",
    "    return x"
   ]
  },
  {
   "cell_type": "code",
   "execution_count": 9,
   "metadata": {
    "collapsed": false
   },
   "outputs": [
    {
     "name": "stdout",
     "output_type": "stream",
     "text": [
      "Optimal solution is[ 5. -5.]\n"
     ]
    }
   ],
   "source": [
    "L = 0.001\n",
    "epsilon0 = 1\n",
    "delta = 0.1\n",
    "gamma = 2.0\n",
    "start = [0.0,0.0]\n",
    "#%timeit hookejeeves(L,epsilon0,delta,gamma,x0,f_simple)\n",
    "x = hookejeeves(L,epsilon0,delta,gamma,start,f_simple); print \"Optimal solution is\" + str(x)"
   ]
  },
  {
   "cell_type": "markdown",
   "metadata": {
    "slideshow": {
     "slide_type": "subslide"
    }
   },
   "source": [
    "### How does it actually work?"
   ]
  },
  {
   "cell_type": "markdown",
   "metadata": {},
   "source": [
    "Let us define a function that can plot a set of steps:"
   ]
  },
  {
   "cell_type": "code",
   "execution_count": 10,
   "metadata": {
    "collapsed": false
   },
   "outputs": [
    {
     "name": "stdout",
     "output_type": "stream",
     "text": [
      "Populating the interactive namespace from numpy and matplotlib\n"
     ]
    },
    {
     "name": "stderr",
     "output_type": "stream",
     "text": [
      "WARNING: pylab import has clobbered these variables: ['copy', 'gamma']\n",
      "`%matplotlib` prevents importing * from pylab and numpy\n"
     ]
    }
   ],
   "source": [
    "%pylab inline\n",
    "import matplotlib.pyplot as plt\n",
    "\n",
    "def plot_2d_steps(steps,start):\n",
    "    myvec = np.array([start]+steps).transpose()\n",
    "    plt.plot(myvec[0,],myvec[1,],'ro')\n",
    "    for label,x,y in zip([str(i) for i in range(len(steps)+1)],myvec[0,],myvec[1,]):\n",
    "        plt.annotate(label,xy = (x, y))\n",
    "    return plt"
   ]
  },
  {
   "cell_type": "markdown",
   "metadata": {
    "slideshow": {
     "slide_type": "subslide"
    }
   },
   "source": [
    "Now we need to save the steps of the algorithm. For that, let us modify the algorithm slightly:"
   ]
  },
  {
   "cell_type": "code",
   "execution_count": 11,
   "metadata": {
    "collapsed": true
   },
   "outputs": [],
   "source": [
    "import copy #Copying vectors\n",
    "import numpy as np #Import vector calculus and much more!\n",
    "def hookejeeves_savesteps(L,epsilon0,delta,gamma,x0,f):\n",
    "    epsilon = epsilon0\n",
    "    x = np.array(x0)\n",
    "    steps = []\n",
    "    while epsilon>L:\n",
    "        xtest = np.zeros(len(x))\n",
    "        for coordinate in range(len(x)):\n",
    "            exp_points = [copy.copy(x) for _ in range(3)] #points to be explored\n",
    "            exp_points[0][coordinate]-=epsilon\n",
    "            exp_points[1][coordinate]+=epsilon\n",
    "            f_exp_points = [f(exp_point) for exp_point in exp_points]\n",
    "            min_value = min(f_exp_points)\n",
    "            xtest[coordinate] = exp_points[f_exp_points.index(min_value)][coordinate] #The coordinate value is the one where the minimum is attained\n",
    "        if all(xtest==x):\n",
    "            epsilon = delta*epsilon\n",
    "        else:\n",
    "            if f(xtest)<f(x+gamma*(xtest-x)):\n",
    "                x = xtest\n",
    "            else:\n",
    "                x = x+gamma*(xtest-x)\n",
    "            steps.append(x)\n",
    "    return x,steps"
   ]
  },
  {
   "cell_type": "code",
   "execution_count": 27,
   "metadata": {
    "collapsed": false,
    "slideshow": {
     "slide_type": "subslide"
    }
   },
   "outputs": [],
   "source": [
    "L = 0.001\n",
    "epsilon0 = 1.0\n",
    "delta = 0.1\n",
    "gamma = 2\n",
    "start = [0.,0.]\n",
    "(x,steps) = hookejeeves_savesteps(L,epsilon0,delta,gamma,start,f_simple)"
   ]
  },
  {
   "cell_type": "code",
   "execution_count": 28,
   "metadata": {
    "collapsed": false
   },
   "outputs": [
    {
     "data": {
      "image/png": "[encoded data removed]",
      "text/plain": [
       "<matplotlib.figure.Figure at 0x596a250>"
      ]
     },
     "metadata": {},
     "output_type": "display_data"
    }
   ],
   "source": [
    "plot_2d_steps(steps,start).show()"
   ]
  },
  {
   "cell_type": "markdown",
   "metadata": {
    "slideshow": {
     "slide_type": "subslide"
    }
   },
   "source": [
    "## Powell's method\n",
    "\n",
    "Powell's method is similar to Hooke&Jeeves, but the first step in exploratory moves is taken to the direction of the last pattern move. This speeds up the convergence in most cases.\n"
   ]
  },
  {
   "cell_type": "code",
   "execution_count": 19,
   "metadata": {
    "collapsed": false
   },
   "outputs": [],
   "source": [
    "import copy\n",
    "import numpy as np\n",
    "def powell(L,epsilon0,delta,gamma,x0,f):\n",
    "    epsilon = epsilon0\n",
    "    exp_direction = np.array([0,1])\n",
    "    x = np.array(x0)\n",
    "    while epsilon>L:\n",
    "        #Comparing among exploratory points to firtst exploratory direction:\n",
    "        if f(x+exp_direction)<f(x):\n",
    "            exp_step1=exp_direction\n",
    "        elif f(x-exp_direction)<f(x):\n",
    "            exp_step1=-exp_direction\n",
    "        else:\n",
    "            exp_step1 = np.zeros(2)\n",
    "        #The following only works in 2d!!\n",
    "        exp_direction2 = np.array([exp_direction[1],-exp_direction[0]])\n",
    "        if f(x+exp_direction2)<f(x):\n",
    "            exp_step2=exp_direction2\n",
    "        elif f(x-exp_direction2)<f(x):\n",
    "            exp_step2=-exp_direction2\n",
    "        else:\n",
    "            exp_step2 = np.zeros(2)\n",
    "        if all(exp_step1+exp_step2==0):\n",
    "            epsilon = delta*epsilon\n",
    "        else:\n",
    "            if f(x+(exp_step1+exp_step2))<f(x+gamma*(exp_step1+exp_step2)):\n",
    "                x = x+(exp_step1+exp_step2)\n",
    "            else:\n",
    "                x = x+gamma*(exp_step1+exp_step2)\n",
    "            exp_direction = epsilon*(exp_step1+exp_step2)/np.linalg.norm(exp_step1+exp_step2)\n",
    "    return x"
   ]
  },
  {
   "cell_type": "code",
   "execution_count": 20,
   "metadata": {
    "collapsed": false
   },
   "outputs": [
    {
     "name": "stdout",
     "output_type": "stream",
     "text": [
      "Optimal solution is[ 4.82842712 -5.        ]\n"
     ]
    }
   ],
   "source": [
    "L = 0.001\n",
    "epsilon0 = 1.\n",
    "delta = 0.1\n",
    "gamma = 2.0\n",
    "start = [0.,0.]\n",
    "#%timeit powell(L,epsilon0,delta,gamma,x0,f_simple)\n",
    "x = powell(L,epsilon0,delta,gamma,start,f_simple)\n",
    "print \"Optimal solution is\" + str(x)"
   ]
  },
  {
   "cell_type": "markdown",
   "metadata": {
    "slideshow": {
     "slide_type": "subslide"
    }
   },
   "source": [
    "### How does it actually work?"
   ]
  },
  {
   "cell_type": "markdown",
   "metadata": {
    "slideshow": {
     "slide_type": "-"
    }
   },
   "source": [
    "Let us again modify the algorithm slightly:"
   ]
  },
  {
   "cell_type": "code",
   "execution_count": 61,
   "metadata": {
    "collapsed": true
   },
   "outputs": [],
   "source": [
    "import copy\n",
    "import numpy as np\n",
    "def powell_savesteps(L,epsilon0,delta,gamma,x0,f):\n",
    "    epsilon = epsilon0\n",
    "    exp_direction = np.array([0,1])\n",
    "    x = np.array(x0)\n",
    "    steps = []\n",
    "    while epsilon>L:\n",
    "        exp_direction=epsilon*exp_direction\n",
    "        #Comparing among exploratory points to firtst exploratory direction:\n",
    "        if f(x+exp_direction)<f(x):\n",
    "            exp_step1=exp_direction\n",
    "        elif f(x-exp_direction)<f(x):\n",
    "            exp_step1=-exp_direction\n",
    "        else:\n",
    "            exp_step1 = np.zeros(2)\n",
    "        #The following only works in 2d!!\n",
    "        exp_direction2 = np.array([exp_direction[1],-exp_direction[0]])\n",
    "        if f(x+exp_direction2)<f(x):\n",
    "            exp_step2=exp_direction2\n",
    "        elif f(x-exp_direction2)<f(x):\n",
    "            exp_step2=-exp_direction2\n",
    "        else:\n",
    "            exp_step2 = np.zeros(2)\n",
    "        if all(exp_step1+exp_step2==0):\n",
    "            epsilon = delta*epsilon\n",
    "        else:\n",
    "            if f(x+(exp_step1+exp_step2))<f(x+gamma*(exp_step1+exp_step2)):\n",
    "                x = x+(exp_step1+exp_step2)\n",
    "            else:\n",
    "                x = x+gamma*(exp_step1+exp_step2)\n",
    "            steps.append(x)\n",
    "            exp_direction = (exp_step1+exp_step2)/np.linalg.norm(exp_step1+exp_step2)\n",
    "    return x,steps"
   ]
  },
  {
   "cell_type": "code",
   "execution_count": 72,
   "metadata": {
    "collapsed": false,
    "slideshow": {
     "slide_type": "subslide"
    }
   },
   "outputs": [],
   "source": [
    "L = 0.001\n",
    "epsilon0 = 10\n",
    "delta = 0.01\n",
    "gamma = 2.0\n",
    "start = [-2.,1.]\n",
    "(x,steps) = powell_savesteps(L,epsilon0,delta,gamma,start,f_simple)"
   ]
  },
  {
   "cell_type": "code",
   "execution_count": 73,
   "metadata": {
    "collapsed": false
   },
   "outputs": [
    {
     "data": {
      "image/png": "[encoded data removed]",
      "text/plain": [
       "<matplotlib.figure.Figure at 0x5771690>"
      ]
     },
     "metadata": {},
     "output_type": "display_data"
    }
   ],
   "source": [
    "plot_2d_steps(steps,start).show()"
   ]
  }
 ],
 "metadata": {
  "celltoolbar": "Slideshow",
  "kernelspec": {
   "display_name": "Python 2",
   "language": "python",
   "name": "python2"
  },
  "language_info": {
   "codemirror_mode": {
    "name": "ipython",
    "version": 2
   },
   "file_extension": ".py",
   "mimetype": "text/x-python",
   "name": "python",
   "nbconvert_exporter": "python",
   "pygments_lexer": "ipython2",
   "version": "2.7.5"
  }
 },
 "nbformat": 4,
 "nbformat_minor": 0
}
