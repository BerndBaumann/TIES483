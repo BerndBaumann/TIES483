{
 "cells": [
  {
   "cell_type": "markdown",
   "metadata": {
    "slideshow": {
     "slide_type": "slide"
    }
   },
   "source": [
    "# Exercises 3, answers"
   ]
  },
  {
   "cell_type": "code",
   "execution_count": 1,
   "metadata": {
    "collapsed": true
   },
   "outputs": [],
   "source": [
    "def objective_function(x):\n",
    "    return (x[0]**2.0 + x[1]**2.0 + x[0] + 2.0 * x[1])"
   ]
  },
  {
   "cell_type": "markdown",
   "metadata": {
    "slideshow": {
     "slide_type": "subslide"
    }
   },
   "source": [
    "## Excercise 1"
   ]
  },
  {
   "cell_type": "code",
   "execution_count": 3,
   "metadata": {
    "collapsed": true
   },
   "outputs": [],
   "source": [
    "import math\n",
    "def golden_section_line_search(a,b,f,L):\n",
    "    x = a\n",
    "    y = b\n",
    "    while y-x>2*L:\n",
    "        if f(x+(math.sqrt(5.0)-1)/2.0*(y-x))<f(y-(math.sqrt(5.0)-1)/2.0*(y-x)):\n",
    "            x = y-(math.sqrt(5.0)-1)/2.0*(y-x)\n",
    "        else:\n",
    "            y = x+(math.sqrt(5.0)-1)/2.0*(y-x)\n",
    "    return (x+y)/2"
   ]
  },
  {
   "cell_type": "code",
   "execution_count": 4,
   "metadata": {
    "collapsed": true
   },
   "outputs": [],
   "source": [
    "import numpy as np\n",
    "import ad\n",
    "def steepest_descent_withgolden(f,start,search_interval_length,precision):\n",
    "    f_old = float('Inf')\n",
    "    x = np.array(start)\n",
    "    steps = []\n",
    "    f_new = f(x)\n",
    "    while abs(f_old-f_new)>precision:\n",
    "        f_old = f_new\n",
    "        d = -np.array(ad.gh(f)[0](x))\n",
    "        step = golden_section_line_search(0,\n",
    "                                          search_interval_length/np.linalg.norm(d),\n",
    "                                          lambda t: f(x+t*d),\n",
    "                                          precision)\n",
    "        x = x+d*step\n",
    "        f_new = f(x)\n",
    "        steps.append(list(x))\n",
    "    return x,f_new,steps"
   ]
  },
  {
   "cell_type": "code",
   "execution_count": 29,
   "metadata": {
    "collapsed": false
   },
   "outputs": [
    {
     "name": "stdout",
     "output_type": "stream",
     "text": [
      "[-0.50000001 -1.00000001]\n"
     ]
    }
   ],
   "source": [
    "(x,f_new,steps1) = steepest_descent_withgolden(objective_function,\n",
    "                                               [0,0],3,0.0001)\n",
    "print x"
   ]
  },
  {
   "cell_type": "markdown",
   "metadata": {
    "slideshow": {
     "slide_type": "slide"
    }
   },
   "source": [
    "## Exercise 2"
   ]
  },
  {
   "cell_type": "code",
   "execution_count": 17,
   "metadata": {
    "collapsed": true
   },
   "outputs": [],
   "source": [
    "import numpy as np\n",
    "import ad\n",
    "def steepest_descent(f,start,step,precision):\n",
    "    f_old = float('Inf')\n",
    "    x = np.array(start)\n",
    "    steps = []\n",
    "    f_new = f(x)\n",
    "    while abs(f_old-f_new)>precision and len(steps)<10:\n",
    "        f_old = f_new\n",
    "        d = -np.array(ad.gh(f)[0](x))\n",
    "        x = x+d*step\n",
    "        f_new = f(x)\n",
    "        steps.append(list(x))\n",
    "    return x,f_new,steps"
   ]
  },
  {
   "cell_type": "code",
   "execution_count": 30,
   "metadata": {
    "collapsed": false
   },
   "outputs": [],
   "source": [
    "(x,f_new,steps2) = steepest_descent(objective_function,[0,0],3,0.00001)"
   ]
  },
  {
   "cell_type": "code",
   "execution_count": 33,
   "metadata": {
    "collapsed": false
   },
   "outputs": [],
   "source": [
    "import matplotlib.pyplot as plt\n",
    "\n",
    "def plot_2d_steps2(steps1,start1,steps2,start2):\n",
    "    myvec1 = np.array([start1]+steps1).transpose()\n",
    "    myvec2 = np.array([start2]+steps2).transpose()\n",
    "    plt.plot(myvec2[0,],myvec2[1,],'bo')\n",
    "    plt.plot(myvec1[0,],myvec1[1,],'ro')\n",
    "    return plt"
   ]
  },
  {
   "cell_type": "code",
   "execution_count": null,
   "metadata": {
    "collapsed": false
   },
   "outputs": [],
   "source": [
    "plot_2d_steps2(steps1,[5,5],steps2,[0,0]).show()"
   ]
  },
  {
   "cell_type": "markdown",
   "metadata": {
    "slideshow": {
     "slide_type": "slide"
    }
   },
   "source": [
    "## Exercise 3"
   ]
  },
  {
   "cell_type": "markdown",
   "metadata": {},
   "source": [
    "$$y_k=\\nabla f(x_k+s_k)-\\nabla f(x_k),$$\n",
    "\n",
    "$$H_{k+1}=H_{k}-\\frac{H_k y_k y_k^T H_k}{y_k^T H_k y_k}+\\frac{s_k s_k^T}{y_k^{T} s_k}$$"
   ]
  },
  {
   "cell_type": "code",
   "execution_count": 2,
   "metadata": {
    "collapsed": true
   },
   "outputs": [],
   "source": [
    "import ad\n",
    "import numpy as np\n",
    "def update_Hinv(H_inv_old,x_old,x_new,f):\n",
    "    y = np.matrix(ad.gh(f)[0](x_new)-ad.gh(f)[0](x_old)).transpose()\n",
    "    second_term = H_inv_old*y*y.transpose()*H_inv_old.transpose()/(y.transpose()*H_inv_old*y)\n",
    "    s = np.matrix(x_new-x_old).transpose()\n",
    "    third_term = s*s.transpose()/(y.transpose()*s)\n",
    "    H_inv_new = H_inv_old-second_term+third_term\n",
    "    return H_inv_new"
   ]
  },
  {
   "cell_type": "code",
   "execution_count": 5,
   "metadata": {
    "collapsed": true
   },
   "outputs": [],
   "source": [
    "import numpy as np\n",
    "def quasi_newton_DFP(f,start,step,precision):\n",
    "    f_old = float('Inf')\n",
    "    x_old = np.array([0]*len(start))\n",
    "    x_new = np.array(start)\n",
    "    steps = []\n",
    "    f_new = f(x_new)\n",
    "    H_inv = np.eye(len(start))\n",
    "    while abs(f_old-f_new)>precision:\n",
    "        H_inv = update_Hinv(H_inv,x_old,x_new,f)\n",
    "        f_old = f_new\n",
    "        d = (-H_inv*(np.matrix(ad.gh(f)[0](x_new)).transpose())).transpose()\n",
    "        #Change the type from np.matrix to np.array so that we can use it in our function\n",
    "        x_old = x_new\n",
    "        x_new = np.array(x_new+d*step)[0]\n",
    "        f_new = f(x_new)\n",
    "        steps.append(list(x_new))\n",
    "    return x_new,f_new,steps"
   ]
  },
  {
   "cell_type": "code",
   "execution_count": 6,
   "metadata": {
    "collapsed": false
   },
   "outputs": [
    {
     "name": "stdout",
     "output_type": "stream",
     "text": [
      "[[2.375, 1.875], [0.80465903095859459, 0.54908641399478042], [0.25491152974819342, -0.34694943128122824], [-0.22138146233145151, -0.61283482163494774], [-0.3363702062401781, -0.84998390979030725], [-0.42867873325120626, -0.91990380820563544], [-0.46299726205011665, -0.96172375588272196], [-0.48183270669379308, -0.98058772682221051], [-0.49085618915925078, -0.99035393661783189], [-0.49544040694814184, -0.99516559230494495], [-0.49771780964871548, -0.99758507682621378]] 11\n"
     ]
    }
   ],
   "source": [
    "(x,f_new,steps)=quasi_newton_DFP(objective_function,[5,5],0.5,0.0001)\n",
    "print steps, len(steps)"
   ]
  }
 ],
 "metadata": {
  "celltoolbar": "Slideshow",
  "kernelspec": {
   "display_name": "Python 2",
   "language": "python",
   "name": "python2"
  },
  "language_info": {
   "codemirror_mode": {
    "name": "ipython",
    "version": 2
   },
   "file_extension": ".py",
   "mimetype": "text/x-python",
   "name": "python",
   "nbconvert_exporter": "python",
   "pygments_lexer": "ipython2",
   "version": "2.7.5"
  }
 },
 "nbformat": 4,
 "nbformat_minor": 0
}
