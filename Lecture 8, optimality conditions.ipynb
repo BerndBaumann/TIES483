{
 "cells": [
  {
   "cell_type": "markdown",
   "metadata": {
    "slideshow": {
     "slide_type": "slide"
    }
   },
   "source": [
    "# Lecture 8, Optimality conditions"
   ]
  },
  {
   "cell_type": "markdown",
   "metadata": {},
   "source": [
    "Now we will move to studying constrained optimizaton problems i.e., the full problem\n",
    "$$\n",
    "\\begin{align} \\\n",
    "\\min \\quad &f(x)\\\\\n",
    "\\text{s.t.} \\quad & g_j(x) \\geq 0\\text{ for all }j=1,\\ldots,J\\\\\n",
    "& h_k(x) = 0\\text{ for all }k=1,\\ldots,K\\\\\n",
    "&x\\in \\mathbb R^n.\n",
    "\\end{align}\n",
    "$$"
   ]
  },
  {
   "cell_type": "markdown",
   "metadata": {},
   "source": [
    "In order to identify which points are optimal, we want to define similar conditions as there are for unconstrained problems through the gradient:\n",
    "\n",
    ">If $x$ is a  local optimum to function $f$, then $\\nabla f(x)=0$."
   ]
  },
  {
   "cell_type": "markdown",
   "metadata": {},
   "source": [
    "Since, if $\\nabla f(x)d<0$, **then** $d$ is a descent direction, the following theorem follows easily."
   ]
  },
  {
   "cell_type": "markdown",
   "metadata": {},
   "source": [
    "**Theorem:** Consider an optimization problem\n",
    "$$\n",
    "\\begin{align}\n",
    "\\min &\\  f(x)\\\\\n",
    "\\text{s.t. }&\\ x\\in S\n",
    "\\end{align}\n",
    "$$\n",
    "and let $x^*\\in S$. Now, if $x^*$ is a local minimizer, then $\\{d\\in B(0,1):\\nabla f(x^*)d<0 \\}\\cap D$ is empty."
   ]
  },
  {
   "cell_type": "markdown",
   "metadata": {
    "collapsed": false,
    "slideshow": {
     "slide_type": "slide"
    }
   },
   "source": [
    "## KKT conditions\n"
   ]
  },
  {
   "cell_type": "markdown",
   "metadata": {},
   "source": [
    "Unfortunately, the set $D$ is not easily explicitly modelled. Thus, we need to develop  methods for explicitly defining the set $D$ or even better the set $\\{d\\in B(0,1):\\nabla f(x^*)d<0 \\}\\cap D$. This is done through the KKT conditions:\n",
    "\n",
    "**Theorem (Kuhn-Tucker Necessary Conditions)** Let $x^**$ be a local minimum for problem\n",
    "$$\n",
    "$$\n",
    "\\begin{align} \\\n",
    "\\min \\quad &f(x)\\\\\n",
    "\\text{s.t.} \\quad & g_j(x) \\geq 0\\text{ for all }j=1,\\ldots,J\\\\\n",
    "& h_k(x) = 0\\text{ for all }k=1,\\ldots,K\\\\\n",
    "&x\\in \\mathbb R^n.\n",
    "\\end{align}\n",
    "$$\n",
    "$$\n",
    "\n",
    "and assume that $x^*$ is regular. Then there exists unique Lagrance multiplier vectors $\\lambda^* = (\\lambda^*_1,\\ldots,\\lambda_J^*)$ and $\\mu^*=(\\mu_1^*,\\ldots,\\mu_K^*)$ such that\n",
    "$$\n",
    "\\begin{align}\n",
    "&\\nabla_xL(x,\\lambda,\\mu) = 0\\\\\n",
    "&\\mu_j^*\\geq0,\\text{ for all }j=1,\\ldots,J\\\\\n",
    "&\\mu_j^*=0,\\text{for all }j\\in A(x^*),\n",
    "\\end{align}\n",
    "$$\n",
    "where $$L(x,\\lambda,\\mu) = f(x)+\\sum_{j=1}^J\\lambda_jh_j(x) + \\sum_{k=1}^K\\mu_kg_k(x)$$ and $A(x^*)$ is the set of active constraints at $x^*$. If in addition $f$, $h$ and $g$ are twice continuously differentiable, it holds that\n",
    "$$\n",
    "yH_{x}L(x^*,\\lambda^*,\\mu^*)y\\geq0, \\text{ for all }y\\in V(x^*),\n",
    "$$\n",
    "where \n",
    "$$\n",
    "V(x^*) = \\{y:\\nabla h_j(x^*)'y=0, \\text{ for all }j=1,\\ldots,J, \\text{ and }\\nabla g_k(x^*)'y=0, \\text{ for all }j\\in A(x^*).\n",
    "$$"
   ]
  },
  {
   "cell_type": "markdown",
   "metadata": {
    "slideshow": {
     "slide_type": "subslide"
    }
   },
   "source": [
    "**Example (page 285, Bertsekas: Nonlinear Programming)** Consider the optimizaiton problem\n",
    "$$\n",
    "\\begin{align}\n",
    "\\min &\\qquad \\frac12 (x_1^2+x^2_2+x^2_3)\\\\\n",
    "\\text{s.t}&\\qquad x_1+x_2+x_3\\geq 0.\n",
    "\\end{align}\n",
    "$$\n",
    "Let us verify the Kuhn-Tucker necessary conditions for the local optimum $x^*=(-1,-1,-1)$."
   ]
  },
  {
   "cell_type": "code",
   "execution_count": 76,
   "metadata": {
    "collapsed": false
   },
   "outputs": [],
   "source": [
    "def f(x):\n",
    "    return 0.5*sum([i**2 for i in x])\n",
    "def g(x):\n",
    "    return 3-sum(x)\n",
    "def h(x):\n",
    "    return 0*sum(x)"
   ]
  },
  {
   "cell_type": "code",
   "execution_count": 77,
   "metadata": {
    "collapsed": false
   },
   "outputs": [],
   "source": [
    "import numpy as np\n",
    "import ad\n",
    "def grad_x_L(x,lambda_,mu,f,g,h):\n",
    "    return ad.gh(f)[0](x)+lambda_*np.array(ad.gh(h)[0](x))+mu*np.array(ad.gh(g)[0](x))"
   ]
  },
  {
   "cell_type": "code",
   "execution_count": 78,
   "metadata": {
    "collapsed": false
   },
   "outputs": [
    {
     "name": "stdout",
     "output_type": "stream",
     "text": [
      "[-2. -2. -2.]\n",
      "6\n"
     ]
    }
   ],
   "source": [
    "import ad\n",
    "mu = 1\n",
    "lambda_ = 10 #Does not play a role. Think why?\n",
    "x_opt = [-1,-1,-1]\n",
    "\n",
    "\n",
    "print grad_x_L(x_opt,lambda_,mu,f,g,h)\n",
    "\n",
    "print g(x_opt)"
   ]
  }
 ],
 "metadata": {
  "celltoolbar": "Slideshow",
  "kernelspec": {
   "display_name": "Python 2",
   "language": "python",
   "name": "python2"
  },
  "language_info": {
   "codemirror_mode": {
    "name": "ipython",
    "version": 2
   },
   "file_extension": ".py",
   "mimetype": "text/x-python",
   "name": "python",
   "nbconvert_exporter": "python",
   "pygments_lexer": "ipython2",
   "version": "2.7.5"
  }
 },
 "nbformat": 4,
 "nbformat_minor": 0
}
